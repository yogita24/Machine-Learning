{
 "cells": [
  {
   "cell_type": "code",
   "execution_count": 1,
   "id": "92c3fdae",
   "metadata": {},
   "outputs": [],
   "source": [
    "import pandas as pd\n",
    "import matplotlib.pyplot as plt\n",
    "import seaborn as sns\n",
    "sns.set()  #set look to overwrite the default matplotlib one."
   ]
  },
  {
   "cell_type": "code",
   "execution_count": 60,
   "id": "5b4b9b64",
   "metadata": {},
   "outputs": [],
   "source": [
    "df=pd.read_csv(\"bar_chart.csv\")\n",
    "df[\"Country\"]=[\"USA\",\"UK\",\"USA\",\"USA\"]"
   ]
  },
  {
   "cell_type": "code",
   "execution_count": 61,
   "id": "a0fd407c",
   "metadata": {},
   "outputs": [
    {
     "data": {
      "text/html": [
       "<div>\n",
       "<style scoped>\n",
       "    .dataframe tbody tr th:only-of-type {\n",
       "        vertical-align: middle;\n",
       "    }\n",
       "\n",
       "    .dataframe tbody tr th {\n",
       "        vertical-align: top;\n",
       "    }\n",
       "\n",
       "    .dataframe thead th {\n",
       "        text-align: right;\n",
       "    }\n",
       "</style>\n",
       "<table border=\"1\" class=\"dataframe\">\n",
       "  <thead>\n",
       "    <tr style=\"text-align: right;\">\n",
       "      <th></th>\n",
       "      <th>Cities</th>\n",
       "      <th>Frequency</th>\n",
       "      <th>Country</th>\n",
       "    </tr>\n",
       "  </thead>\n",
       "  <tbody>\n",
       "    <tr>\n",
       "      <th>0</th>\n",
       "      <td>New York</td>\n",
       "      <td>12327</td>\n",
       "      <td>USA</td>\n",
       "    </tr>\n",
       "    <tr>\n",
       "      <th>1</th>\n",
       "      <td>LA</td>\n",
       "      <td>17129</td>\n",
       "      <td>UK</td>\n",
       "    </tr>\n",
       "    <tr>\n",
       "      <th>2</th>\n",
       "      <td>San Francisco</td>\n",
       "      <td>19923</td>\n",
       "      <td>USA</td>\n",
       "    </tr>\n",
       "    <tr>\n",
       "      <th>3</th>\n",
       "      <td>Total</td>\n",
       "      <td>49379</td>\n",
       "      <td>USA</td>\n",
       "    </tr>\n",
       "  </tbody>\n",
       "</table>\n",
       "</div>"
      ],
      "text/plain": [
       "          Cities  Frequency Country\n",
       "0       New York      12327     USA\n",
       "1             LA      17129      UK\n",
       "2  San Francisco      19923     USA\n",
       "3          Total      49379     USA"
      ]
     },
     "execution_count": 61,
     "metadata": {},
     "output_type": "execute_result"
    }
   ],
   "source": [
    "df"
   ]
  },
  {
   "cell_type": "code",
   "execution_count": 20,
   "id": "cb7cf6bc",
   "metadata": {},
   "outputs": [
    {
     "data": {
      "text/plain": [
       "array(['New York', 'LA', 'San Francisco', 'Total'], dtype=object)"
      ]
     },
     "execution_count": 20,
     "metadata": {},
     "output_type": "execute_result"
    }
   ],
   "source": [
    "df.Cities.values"
   ]
  },
  {
   "cell_type": "code",
   "execution_count": 67,
   "id": "1f9edeae",
   "metadata": {},
   "outputs": [
    {
     "name": "stderr",
     "output_type": "stream",
     "text": [
      "No artists with labels found to put in legend.  Note that artists whose label start with an underscore are ignored when legend() is called with no argument.\n"
     ]
    },
    {
     "name": "stdout",
     "output_type": "stream",
     "text": [
      "<BarContainer object of 4 artists>\n",
      "-0.25 0.5\n",
      "0.75 0.5\n",
      "1.75 0.5\n",
      "2.75 0.5\n"
     ]
    },
    {
     "data": {
      "image/png": "[encoded data removed]",
      "text/plain": [
       "<Figure size 648x432 with 1 Axes>"
      ]
     },
     "metadata": {},
     "output_type": "display_data"
    }
   ],
   "source": [
    "plt.figure(figsize=(9,6))\n",
    "a=plt.bar(x=df.Cities,\n",
    "       height=df.Frequency,color=[\"#19535F\",\"g\",'#60495A',\"#A9ACA9\"],width=0.5)\n",
    "print(a)\n",
    "for rect in a:\n",
    "    print(rect.get_x(),rect.get_width())\n",
    "    height = rect.get_height()\n",
    "    plt.text(rect.get_x() + rect.get_width()/2.,height,height,ha='center', va='bottom',weight=\"bold\")\n",
    "\n",
    "#     plt.text(rect.get_x() + rect.get_width()/2., 1.04*height,'%.1f' % float(height),ha='center', va='bottom')\n",
    "    \n",
    "plt.title(\"Cities Frequency\",fontweight='bold',fontsize=13)\n",
    "plt.xlabel(\"Cities\",fontweight='bold',fontsize=13)\n",
    "plt.ylabel(\"Frequency\",fontweight='bold',fontsize=13)\n",
    "plt.xticks(fontsize=12,rotation=35,style='italic')\n",
    "plt.yticks(fontsize=12)\n",
    "plt.legend(loc='best')\n",
    "plt.savefig(\"Citiesfrequency.png\")"
   ]
  },
  {
   "cell_type": "code",
   "execution_count": null,
   "id": "7240443b",
   "metadata": {},
   "outputs": [],
   "source": []
  }
 ],
 "metadata": {
  "kernelspec": {
   "display_name": "Python 3 (ipykernel)",
   "language": "python",
   "name": "python3"
  },
  "language_info": {
   "codemirror_mode": {
    "name": "ipython",
    "version": 3
   },
   "file_extension": ".py",
   "mimetype": "text/x-python",
   "name": "python",
   "nbconvert_exporter": "python",
   "pygments_lexer": "ipython3",
   "version": "3.10.0"
  }
 },
 "nbformat": 4,
 "nbformat_minor": 5
}

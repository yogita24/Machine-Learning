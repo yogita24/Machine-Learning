{
 "cells": [
  {
   "cell_type": "markdown",
   "id": "a9b56e28",
   "metadata": {},
   "source": [
    "# Matrix and Cumulative Sum in Numpy Array"
   ]
  },
  {
   "cell_type": "markdown",
   "id": "427cd574",
   "metadata": {},
   "source": [
    "Numpy provides another class in addition to arrays: that's matrix.The matrix class is subclass of the ndarray and is basically identical to the ndarray with one notable exception: the ndarray object are high dimensional array where in **matrix object are strictly 2 dimensional**."
   ]
  },
  {
   "cell_type": "markdown",
   "id": "01bd7957",
   "metadata": {},
   "source": [
    "## Implementation:\n",
    "\n",
    "```import numpy as np\n",
    "mat=np.matrix([[1,2],[3,4]])\n",
    "print(mat)```"
   ]
  },
  {
   "cell_type": "code",
   "execution_count": 3,
   "id": "74b1a59e",
   "metadata": {
    "scrolled": false
   },
   "outputs": [
    {
     "name": "stdout",
     "output_type": "stream",
     "text": [
      "[[1 2]\n",
      " [3 4]] <class 'numpy.matrix'> (2, 2) 2\n"
     ]
    }
   ],
   "source": [
    "import numpy as np\n",
    "mat=np.matrix([[1,2],[3,4]])\n",
    "print(mat,type(mat),mat.shape,mat.ndim)"
   ]
  },
  {
   "cell_type": "markdown",
   "id": "7f4be887",
   "metadata": {},
   "source": [
    "**We can also convert Numpy array to matrix using asmatrix() function.**"
   ]
  },
  {
   "cell_type": "code",
   "execution_count": 12,
   "id": "fd59dae0",
   "metadata": {},
   "outputs": [
    {
     "name": "stdout",
     "output_type": "stream",
     "text": [
      "Array:\n",
      " [[0 1 2 3]\n",
      " [4 5 6 7]] \n",
      "\n",
      "Shape: (2, 4) \n",
      "\n",
      "Type: <class 'numpy.ndarray'>\n",
      "\n",
      "After Updating: <class 'numpy.matrix'>\n"
     ]
    }
   ],
   "source": [
    "arr=np.array(range(0,8)).reshape(2,4)\n",
    "print(\"Array:\\n\",arr,\"\\n\\nShape:\",arr.shape,\"\\n\\nType:\",type(arr))\n",
    "#converting to matrix type\n",
    "mat=np.asmatrix(arr)\n",
    "print(\"\\nAfter Updating:\",type(mat))"
   ]
  },
  {
   "cell_type": "markdown",
   "id": "3e918a52",
   "metadata": {},
   "source": [
    "**Another important point about ndarray and matrix class is :\n",
    "On multiplying two ndarray - element wise multiplication happens\n",
    "while for matrix - its equivalent to dot product of two array.**"
   ]
  },
  {
   "cell_type": "code",
   "execution_count": 18,
   "id": "4b1ec9f5",
   "metadata": {},
   "outputs": [
    {
     "name": "stdout",
     "output_type": "stream",
     "text": [
      "\n",
      "\n",
      "[[ 1  4]\n",
      " [ 9 16]]\n",
      "\n",
      "[[ 7 10]\n",
      " [15 22]]\n",
      "\n",
      "[[ 7 10]\n",
      " [15 22]]\n"
     ]
    }
   ],
   "source": [
    "arr=np.array(range(1,5)).reshape(2,2)\n",
    "arr1=arr*arr\n",
    "mat=np.asmatrix(arr)\n",
    "mat1=mat*mat #same as dot product of array\n",
    "mat2=np.dot(arr,arr)\n",
    "print(f\"\\n\\n{arr1}\\n\\n{mat1}\\n\\n{mat2}\")"
   ]
  },
  {
   "cell_type": "markdown",
   "id": "3b87b846",
   "metadata": {},
   "source": [
    "### Cumulative sum"
   ]
  },
  {
   "cell_type": "markdown",
   "id": "4d125346",
   "metadata": {},
   "source": [
    "Very often while numerical operation there will be a need to calculate cumulative sum of Numpy arrays.We can call cumsum() function to get the cumulative sum of array elements.\n",
    "\n",
    "Note:\n",
    "* we can pass axis=0 to get cumulative sum of column elements\n",
    "* axis=1 for row elements"
   ]
  },
  {
   "cell_type": "code",
   "execution_count": 22,
   "id": "5ba38f76",
   "metadata": {},
   "outputs": [
    {
     "name": "stdout",
     "output_type": "stream",
     "text": [
      "[[[ 0  1]\n",
      "  [ 2  3]\n",
      "  [ 4  5]]\n",
      "\n",
      " [[ 6  7]\n",
      "  [ 8  9]\n",
      "  [10 11]]] \n",
      " [ 0  1  3  6 10 15 21 28 36 45 55 66]\n"
     ]
    }
   ],
   "source": [
    "arr=np.array(range(0,12)).reshape(2,3,2)\n",
    "Casum=np.cumsum(arr)\n",
    "print(arr,\"\\n\",Casum)"
   ]
  },
  {
   "cell_type": "code",
   "execution_count": 24,
   "id": "c40c13a9",
   "metadata": {},
   "outputs": [
    {
     "name": "stdout",
     "output_type": "stream",
     "text": [
      "[[[ 0  1]\n",
      "  [ 2  3]\n",
      "  [ 4  5]]\n",
      "\n",
      " [[ 6  7]\n",
      "  [ 8  9]\n",
      "  [10 11]]] \n",
      "\n",
      " [[[ 0  1]\n",
      "  [ 2  3]\n",
      "  [ 4  5]]\n",
      "\n",
      " [[ 6  8]\n",
      "  [10 12]\n",
      "  [14 16]]]\n"
     ]
    }
   ],
   "source": [
    "csum=np.cumsum(arr,axis=0)\n",
    "print(arr,\"\\n\\n\",csum)"
   ]
  },
  {
   "cell_type": "code",
   "execution_count": 25,
   "id": "cbc86970",
   "metadata": {},
   "outputs": [
    {
     "data": {
      "text/plain": [
       "array([[[ 0,  1],\n",
       "        [ 2,  4],\n",
       "        [ 6,  9]],\n",
       "\n",
       "       [[ 6,  7],\n",
       "        [14, 16],\n",
       "        [24, 27]]], dtype=int32)"
      ]
     },
     "execution_count": 25,
     "metadata": {},
     "output_type": "execute_result"
    }
   ],
   "source": [
    "rsum=np.cumsum(arr,axis=1)\n",
    "rsum"
   ]
  }
 ],
 "metadata": {
  "kernelspec": {
   "display_name": "Python 3 (ipykernel)",
   "language": "python",
   "name": "python3"
  },
  "language_info": {
   "codemirror_mode": {
    "name": "ipython",
    "version": 3
   },
   "file_extension": ".py",
   "mimetype": "text/x-python",
   "name": "python",
   "nbconvert_exporter": "python",
   "pygments_lexer": "ipython3",
   "version": "3.10.0"
  }
 },
 "nbformat": 4,
 "nbformat_minor": 5
}

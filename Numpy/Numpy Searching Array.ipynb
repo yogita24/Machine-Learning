{
 "cells": [
  {
   "cell_type": "markdown",
   "id": "b0bbbff8",
   "metadata": {},
   "source": [
    "# Numpy Searching Array"
   ]
  },
  {
   "cell_type": "markdown",
   "id": "db67d595",
   "metadata": {},
   "source": [
    "We can search an array for a certain value and return index if we get a value.We can search for array elements using\n",
    "**where()** function."
   ]
  },
  {
   "cell_type": "code",
   "execution_count": 3,
   "id": "7c23b72a",
   "metadata": {},
   "outputs": [
    {
     "name": "stdout",
     "output_type": "stream",
     "text": [
      "(array([4], dtype=int64),)\n"
     ]
    }
   ],
   "source": [
    "import numpy as np\n",
    "arr=np.array(range(1,10))\n",
    "print(np.where(arr==5))"
   ]
  },
  {
   "cell_type": "code",
   "execution_count": 4,
   "id": "347f6753",
   "metadata": {},
   "outputs": [
    {
     "data": {
      "text/plain": [
       "(array([5, 6, 7, 8], dtype=int64),)"
      ]
     },
     "execution_count": 4,
     "metadata": {},
     "output_type": "execute_result"
    }
   ],
   "source": [
    "arr=np.where(arr>5)\n",
    "arr"
   ]
  },
  {
   "cell_type": "markdown",
   "id": "f7830d54",
   "metadata": {},
   "source": [
    "## Search Sorted"
   ]
  },
  {
   "cell_type": "markdown",
   "id": "5e1329fc",
   "metadata": {},
   "source": [
    "There is function searchsorted() which implements binary search and returns index where the elements should be inserted such that search order is maintained.\n",
    "Assumption is that searchsorted function is called on sorted array."
   ]
  },
  {
   "cell_type": "code",
   "execution_count": 17,
   "id": "fa5d96f6",
   "metadata": {},
   "outputs": [
    {
     "name": "stdout",
     "output_type": "stream",
     "text": [
      "[21 40 13 42 41]\n"
     ]
    },
    {
     "data": {
      "text/plain": [
       "array([1, 5], dtype=int64)"
      ]
     },
     "execution_count": 17,
     "metadata": {},
     "output_type": "execute_result"
    }
   ],
   "source": [
    "np.random.seed(45)\n",
    "arr=np.random.randint(10,49,size=5)\n",
    "print(arr)\n",
    "arr.sort()\n",
    "indx=np.searchsorted(arr,[18,45])\n",
    "indx"
   ]
  },
  {
   "cell_type": "markdown",
   "id": "c83eed91",
   "metadata": {},
   "source": [
    "## Numpy Array Filtering"
   ]
  },
  {
   "cell_type": "markdown",
   "id": "c68bcc66",
   "metadata": {},
   "source": [
    "Getting some elements out of existing array and creating new array out of them is filtering.Filtering in numpy array can be done through boolean index list.Booolean index list is a list of boolean values corresponding to an index."
   ]
  },
  {
   "cell_type": "code",
   "execution_count": 21,
   "id": "70284c98",
   "metadata": {},
   "outputs": [
    {
     "name": "stdout",
     "output_type": "stream",
     "text": [
      "[10 12 14 16 18]\n",
      "[False False False  True  True] [16 18]\n"
     ]
    }
   ],
   "source": [
    "arr=np.arange(10,20,2)\n",
    "print(arr)\n",
    "x=arr>14 \n",
    "print(x,arr[x])"
   ]
  }
 ],
 "metadata": {
  "kernelspec": {
   "display_name": "Python 3 (ipykernel)",
   "language": "python",
   "name": "python3"
  },
  "language_info": {
   "codemirror_mode": {
    "name": "ipython",
    "version": 3
   },
   "file_extension": ".py",
   "mimetype": "text/x-python",
   "name": "python",
   "nbconvert_exporter": "python",
   "pygments_lexer": "ipython3",
   "version": "3.10.0"
  }
 },
 "nbformat": 4,
 "nbformat_minor": 5
}

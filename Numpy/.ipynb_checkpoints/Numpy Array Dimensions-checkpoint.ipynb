{
 "cells": [
  {
   "cell_type": "markdown",
   "id": "afd1402b",
   "metadata": {},
   "source": [
    "### Numpy\n",
    "\n",
    "1. Numpy is used to work with array.\n",
    "2. The array object in Nupy is called ndarray.\n",
    "3. We create ndarrray in Numpy by using array() function.\n",
    "\n",
    "#### Implementation"
   ]
  },
  {
   "cell_type": "code",
   "execution_count": 4,
   "id": "df40483c",
   "metadata": {},
   "outputs": [
    {
     "name": "stdout",
     "output_type": "stream",
     "text": [
      "[1 2 3 4]\n",
      "<class 'numpy.ndarray'>\n"
     ]
    }
   ],
   "source": [
    "import numpy as np\n",
    "arr=np.array([1,2,3,4])\n",
    "print(arr)\n",
    "print(type(arr))"
   ]
  },
  {
   "cell_type": "markdown",
   "id": "05ce7c0c",
   "metadata": {},
   "source": [
    "**type() is function that return type of object passed to it.**"
   ]
  },
  {
   "cell_type": "markdown",
   "id": "a794c2fb",
   "metadata": {},
   "source": [
    "*Note: To create array we can pass list,tuple or any array like object to array() method and it will be converted to ndarray.*"
   ]
  },
  {
   "cell_type": "markdown",
   "id": "d3a6e5ea",
   "metadata": {},
   "source": [
    "#### Examples"
   ]
  },
  {
   "cell_type": "code",
   "execution_count": 5,
   "id": "23a4f6cb",
   "metadata": {},
   "outputs": [
    {
     "name": "stdout",
     "output_type": "stream",
     "text": [
      "[1 2 3 4]\n",
      "<class 'numpy.ndarray'>\n"
     ]
    }
   ],
   "source": [
    "#passing list to array()\n",
    "list1=[1,2,3,4]\n",
    "arr=np.array(list1)\n",
    "print(arr)\n",
    "print(type(arr))"
   ]
  },
  {
   "cell_type": "code",
   "execution_count": 12,
   "id": "ee4df903",
   "metadata": {},
   "outputs": [
    {
     "name": "stdout",
     "output_type": "stream",
     "text": [
      "[1 2 3 4]\n",
      "<class 'numpy.ndarray'>\n"
     ]
    }
   ],
   "source": [
    "#passing tuple to array()\n",
    "tuple1=(1,2,3,4)\n",
    "arr=np.array(tuple1)\n",
    "print(arr)\n",
    "print(type(arr))"
   ]
  },
  {
   "cell_type": "code",
   "execution_count": 14,
   "id": "730ccd26",
   "metadata": {},
   "outputs": [
    {
     "name": "stdout",
     "output_type": "stream",
     "text": [
      "{1, 2, 3, 4}\n",
      "<class 'numpy.ndarray'>\n"
     ]
    }
   ],
   "source": [
    "#pasisng set to array();set is a python data structure;It is mutable and contains dinstinct values.\n",
    "set1={1,2,3,4}\n",
    "arr=np.array(set1)\n",
    "print(arr)\n",
    "print(type(arr))"
   ]
  },
  {
   "cell_type": "code",
   "execution_count": 17,
   "id": "623bfc7c",
   "metadata": {},
   "outputs": [
    {
     "name": "stdout",
     "output_type": "stream",
     "text": [
      "{'Name': 'Yogita', 'Company': 'TCS'}\n",
      "<class 'numpy.ndarray'>\n"
     ]
    }
   ],
   "source": [
    "#passing dictionary to array();\n",
    "dic={'Name':'Yogita','Company':'TCS'}\n",
    "arr=np.array(dic)\n",
    "print(arr)\n",
    "print(type(arr))"
   ]
  },
  {
   "cell_type": "markdown",
   "id": "3e1492c5",
   "metadata": {},
   "source": [
    "### Dimensions In Array"
   ]
  },
  {
   "cell_type": "markdown",
   "id": "067af16c",
   "metadata": {},
   "source": [
    "1. A dimension in array is one level of array depth(nested arrays).\n",
    "2. Nested array are arrays that have array as their elements.\n",
    "3. **0-D array** : Each value in array is 0-D array or Scalar.For eg:25,[25]\n",
    "4. **1-D array** : 1-D array or vector is mX1 or 1Xm type of array.Vector is collection of scalars.For eg:[2 3 4 5]\n",
    "5. **Matrices** are collection of vectors.(2-D array)"
   ]
  },
  {
   "cell_type": "markdown",
   "id": "905bdeb8",
   "metadata": {},
   "source": [
    "### Implementation"
   ]
  },
  {
   "cell_type": "code",
   "execution_count": 31,
   "id": "15ebbedd",
   "metadata": {},
   "outputs": [
    {
     "name": "stdout",
     "output_type": "stream",
     "text": [
      "25 <class 'numpy.ndarray'> int32\n",
      "Shape :(),dimension:0\n"
     ]
    }
   ],
   "source": [
    "scalar=np.array(25)\n",
    "print(scalar,type(scalar),scalar.dtype)\n",
    "print(f\"Shape :{scalar.shape},dimension:{scalar.ndim}\")"
   ]
  },
  {
   "cell_type": "code",
   "execution_count": 28,
   "id": "a0cd2d08",
   "metadata": {},
   "outputs": [
    {
     "name": "stdout",
     "output_type": "stream",
     "text": [
      "[25 34 45 67] <class 'numpy.ndarray'> int32\n",
      "Shape :(4,),dimension:1\n"
     ]
    }
   ],
   "source": [
    "scalar=np.array([25,34,45,67])\n",
    "print(scalar,type(scalar),scalar.dtype)\n",
    "print(f\"Shape :{scalar.shape},dimension:{scalar.ndim}\")"
   ]
  },
  {
   "cell_type": "code",
   "execution_count": 50,
   "id": "407c7155",
   "metadata": {},
   "outputs": [
    {
     "name": "stdout",
     "output_type": "stream",
     "text": [
      "[[[2 3 4 5]\n",
      "  [3 4 5 8]]] <class 'numpy.ndarray'> int32\n",
      "Shape :(1, 2, 4),dimension:3\n"
     ]
    }
   ],
   "source": [
    "list1=[2,3,4,5]\n",
    "list2=[3,4,5,8]\n",
    "matrix=np.array([[list1,list2]])\n",
    "print(matrix,type(matrix),matrix.dtype)\n",
    "print(f\"Shape :{matrix.shape},dimension:{matrix.ndim}\")"
   ]
  },
  {
   "cell_type": "code",
   "execution_count": 42,
   "id": "0196e46f",
   "metadata": {},
   "outputs": [
    {
     "name": "stdout",
     "output_type": "stream",
     "text": [
      "[{2, 3, 4, 5} {8, 3, 4, 5}] <class 'numpy.ndarray'> object\n",
      "Shape :(2,),dimension:1\n"
     ]
    }
   ],
   "source": [
    "list1=set([2,3,4,5])\n",
    "list2=set([3,4,5,8])\n",
    "matrix=np.array([list1,list2])\n",
    "print(matrix,type(matrix),matrix.dtype)\n",
    "print(f\"Shape :{matrix.shape},dimension:{matrix.ndim}\")"
   ]
  },
  {
   "cell_type": "code",
   "execution_count": 48,
   "id": "08923df8",
   "metadata": {},
   "outputs": [
    {
     "name": "stdout",
     "output_type": "stream",
     "text": [
      "[[[2 3 4 5]\n",
      "  [3 4 5 8]]\n",
      "\n",
      " [[3 4 5 8]\n",
      "  [2 3 4 5]]] <class 'numpy.ndarray'> int32\n",
      "Shape :(2, 2, 4),dimension:3\n"
     ]
    }
   ],
   "source": [
    "list1=[2,3,4,5]\n",
    "list2=[3,4,5,8]\n",
    "matrix=np.array([[list1,list2],[list2,list1]])\n",
    "print(matrix,type(matrix),matrix.dtype)\n",
    "print(f\"Shape :{matrix.shape},dimension:{matrix.ndim}\")"
   ]
  },
  {
   "cell_type": "markdown",
   "id": "ef262220",
   "metadata": {},
   "source": [
    "**ndim - Numpy attribute that return integer that tells us how many dimensions the array have.**"
   ]
  },
  {
   "cell_type": "code",
   "execution_count": 57,
   "id": "cf8f9c97",
   "metadata": {},
   "outputs": [
    {
     "name": "stdout",
     "output_type": "stream",
     "text": [
      "[[[[[1 2 3 3]]]]] 5\n"
     ]
    }
   ],
   "source": [
    "#we can pass ndmin argument to define number of dimensions we want for array.\n",
    "arr=np.array([1,2,3,3],ndmin=5)\n",
    "print(arr,arr.ndim)"
   ]
  }
 ],
 "metadata": {
  "kernelspec": {
   "display_name": "Python 3 (ipykernel)",
   "language": "python",
   "name": "python3"
  },
  "language_info": {
   "codemirror_mode": {
    "name": "ipython",
    "version": 3
   },
   "file_extension": ".py",
   "mimetype": "text/x-python",
   "name": "python",
   "nbconvert_exporter": "python",
   "pygments_lexer": "ipython3",
   "version": "3.10.0"
  }
 },
 "nbformat": 4,
 "nbformat_minor": 5
}

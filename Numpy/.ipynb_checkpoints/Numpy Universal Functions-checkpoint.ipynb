{
 "cells": [
  {
   "cell_type": "markdown",
   "id": "62dbde47",
   "metadata": {},
   "source": [
    "# Numpy Universal Functions\n",
    "\n",
    "\n",
    "1. ufuncs are universal functions and they are Numpy functions that operates on the ndarray object.\n",
    "\n",
    "2. Why are ufuncs used?\n",
    "    * ufuncs are used to implement vectorization in Numpy which is way faster than iterating over the elements.\n",
    "    * They provide broadcasting and additional methods like reduce,accumulate which are very useful for computation.\n",
    "    * ufuncs also take additional arguments like:\n",
    "      1. where:Boolean array/condition defining where the operations should take place.\n",
    "      2. dtype:defining return type of array.\n",
    "      3. Out:output array where reurn value should be copied.\n",
    "3. What is Vectorization?\n",
    "   1. Converting iterative statements into  a vector based operation operation is called vectorisation.\n",
    "   2. It is faster as modern CPUs are optimized for such operations.\n"
   ]
  },
  {
   "cell_type": "code",
   "execution_count": 1,
   "id": "4ebda6cc",
   "metadata": {},
   "outputs": [
    {
     "name": "stdout",
     "output_type": "stream",
     "text": [
      "[3, 6, 8]\n"
     ]
    }
   ],
   "source": [
    "#iterative approach\n",
    "a=[1,2,3]\n",
    "b=[2,4,5]\n",
    "c=[x+y for x,y in zip(a,b)]\n",
    "print(c)"
   ]
  },
  {
   "cell_type": "markdown",
   "id": "3a88aa3f",
   "metadata": {},
   "source": [
    "**Creating Your Own ufunc**\n",
    "1. Create function as we usually define in Python.\n",
    "2. Add it into Numpy ufunc library with the frompyfunc() method.\n",
    "\n",
    "* frompyfunc() takes following arguments:\n",
    "  - function - name of function\n",
    "  - inputs - number of input arguments\n",
    "  - output - number of output arrays\n"
   ]
  },
  {
   "cell_type": "code",
   "execution_count": 4,
   "id": "0def4885",
   "metadata": {},
   "outputs": [
    {
     "name": "stdout",
     "output_type": "stream",
     "text": [
      "<class 'function'>\n",
      "[3 6 8] <class 'numpy.ndarray'> <class 'numpy.ufunc'>\n"
     ]
    }
   ],
   "source": [
    "import numpy as np\n",
    "def myadd(a,b):\n",
    "    return a+b\n",
    "print(type(myadd))\n",
    "myadd=np.frompyfunc(myadd,2,1)\n",
    "c=myadd(a,b)\n",
    "print(c,type(c),type(myadd))"
   ]
  },
  {
   "cell_type": "markdown",
   "id": "2733a8fa",
   "metadata": {},
   "source": [
    "# Simple Arithmetic and Rounding Decimals"
   ]
  },
  {
   "cell_type": "code",
   "execution_count": 7,
   "id": "1128eebb",
   "metadata": {},
   "outputs": [
    {
     "name": "stdout",
     "output_type": "stream",
     "text": [
      "[   4   27  256 3125] [   4   27  256 3125]\n"
     ]
    }
   ],
   "source": [
    "a=np.arange(2,6)\n",
    "c=np.arange(2,6)\n",
    "b=a**c\n",
    "print(b,np.power(a,c))"
   ]
  },
  {
   "cell_type": "code",
   "execution_count": 13,
   "id": "1421a115",
   "metadata": {},
   "outputs": [
    {
     "name": "stdout",
     "output_type": "stream",
     "text": [
      "[2 0 0 6]\n",
      "\n",
      "Simple arithmetic not supported for array like object.Try convertin to array and then try\n",
      "\n",
      "[2 0 0 6]\n"
     ]
    }
   ],
   "source": [
    "a=[2,4,5,6]\n",
    "c=[3,4,5,8]\n",
    "d=np.mod(a,c)\n",
    "print(d)\n",
    "try:\n",
    "    print(a%c)\n",
    "except:\n",
    "    print(\"\\nSimple arithmetic not supported for array like object.Try convertin to array and then try\\n\")\n",
    "print(np.array(a)%np.array(c))"
   ]
  },
  {
   "cell_type": "code",
   "execution_count": 14,
   "id": "401dcfda",
   "metadata": {},
   "outputs": [
    {
     "name": "stdout",
     "output_type": "stream",
     "text": [
      "[2 0 0 6]\n",
      "(array([0, 1, 1, 0], dtype=int32), array([2, 0, 0, 6], dtype=int32))\n"
     ]
    }
   ],
   "source": [
    "print(np.remainder(a,c))#same as mod\n",
    "print(np.divmod(a,c)) # returns quotient and remainder both"
   ]
  },
  {
   "cell_type": "code",
   "execution_count": 16,
   "id": "172c64fa",
   "metadata": {},
   "outputs": [
    {
     "name": "stdout",
     "output_type": "stream",
     "text": [
      "[3.12 4.68]\n"
     ]
    }
   ],
   "source": [
    "print(np.round([3.122,4.678],2))"
   ]
  },
  {
   "cell_type": "code",
   "execution_count": 17,
   "id": "ca06831c",
   "metadata": {},
   "outputs": [
    {
     "data": {
      "text/plain": [
       "array([ 4., -3.])"
      ]
     },
     "execution_count": 17,
     "metadata": {},
     "output_type": "execute_result"
    }
   ],
   "source": [
    "np.ceil([3.12,-3.4])#nearest upper integer"
   ]
  },
  {
   "cell_type": "code",
   "execution_count": 18,
   "id": "1bb11e25",
   "metadata": {},
   "outputs": [
    {
     "data": {
      "text/plain": [
       "array([ 3., -4.])"
      ]
     },
     "execution_count": 18,
     "metadata": {},
     "output_type": "execute_result"
    }
   ],
   "source": [
    "np.floor([3.12,-3.4])#nearest lower interger"
   ]
  },
  {
   "cell_type": "code",
   "execution_count": 19,
   "id": "b3a79cd5",
   "metadata": {},
   "outputs": [
    {
     "data": {
      "text/plain": [
       "array([ 3., -3.])"
      ]
     },
     "execution_count": 19,
     "metadata": {},
     "output_type": "execute_result"
    }
   ],
   "source": [
    "np.trunc([3.1222,-3.1222])"
   ]
  },
  {
   "cell_type": "code",
   "execution_count": 20,
   "id": "289d0ae7",
   "metadata": {},
   "outputs": [
    {
     "data": {
      "text/plain": [
       "array([ 3., -3.])"
      ]
     },
     "execution_count": 20,
     "metadata": {},
     "output_type": "execute_result"
    }
   ],
   "source": [
    "np.fix([3.122,-3.122])"
   ]
  },
  {
   "cell_type": "markdown",
   "id": "ac0d79bd",
   "metadata": {},
   "source": [
    "# LCM and GCD\n"
   ]
  },
  {
   "cell_type": "code",
   "execution_count": 22,
   "id": "e0df50b5",
   "metadata": {},
   "outputs": [
    {
     "name": "stdout",
     "output_type": "stream",
     "text": [
      "12\n",
      "6\n"
     ]
    }
   ],
   "source": [
    "print(np.lcm.reduce([2,3,4]))\n",
    "print(np.lcm(2,3))"
   ]
  },
  {
   "cell_type": "code",
   "execution_count": 28,
   "id": "7c9f5754",
   "metadata": {},
   "outputs": [
    {
     "name": "stdout",
     "output_type": "stream",
     "text": [
      "1\n",
      "6\n"
     ]
    }
   ],
   "source": [
    "print(np.gcd(2,3))\n",
    "print(np.gcd.reduce([6,24,48]))"
   ]
  },
  {
   "cell_type": "markdown",
   "id": "f669bcac",
   "metadata": {},
   "source": [
    "# Numpy Product and Difference"
   ]
  },
  {
   "cell_type": "code",
   "execution_count": 30,
   "id": "ec009789",
   "metadata": {},
   "outputs": [
    {
     "data": {
      "text/plain": [
       "2880"
      ]
     },
     "execution_count": 30,
     "metadata": {},
     "output_type": "execute_result"
    }
   ],
   "source": [
    "np.prod([[1,2,3,4],[2,3,4,5]]) #product of elements in arrays"
   ]
  },
  {
   "cell_type": "code",
   "execution_count": 31,
   "id": "d994787e",
   "metadata": {},
   "outputs": [
    {
     "data": {
      "text/plain": [
       "array([   1,    2,    6,   24,   48,  144,  576, 2880], dtype=int32)"
      ]
     },
     "execution_count": 31,
     "metadata": {},
     "output_type": "execute_result"
    }
   ],
   "source": [
    "np.cumprod([[1,2,3,4],[2,3,4,5]]) #taking product partially"
   ]
  },
  {
   "cell_type": "code",
   "execution_count": 32,
   "id": "7bc4777a",
   "metadata": {},
   "outputs": [
    {
     "data": {
      "text/plain": [
       "array([ 24, 120])"
      ]
     },
     "execution_count": 32,
     "metadata": {},
     "output_type": "execute_result"
    }
   ],
   "source": [
    "np.prod([[1,2,3,4],[2,3,4,5]],axis=1) #row-wise"
   ]
  },
  {
   "cell_type": "code",
   "execution_count": 33,
   "id": "f79bb99f",
   "metadata": {},
   "outputs": [
    {
     "data": {
      "text/plain": [
       "array([[  1,   2,   6,  24],\n",
       "       [  2,   6,  24, 120]], dtype=int32)"
      ]
     },
     "execution_count": 33,
     "metadata": {},
     "output_type": "execute_result"
    }
   ],
   "source": [
    "np.cumprod([[1,2,3,4],[2,3,4,5]],axis=1)"
   ]
  },
  {
   "cell_type": "code",
   "execution_count": 36,
   "id": "ed86a8aa",
   "metadata": {},
   "outputs": [
    {
     "data": {
      "text/plain": [
       "array([[ 1, 12, 12],\n",
       "       [32,  8,  8]])"
      ]
     },
     "execution_count": 36,
     "metadata": {},
     "output_type": "execute_result"
    }
   ],
   "source": [
    "np.diff([[1,2,14,26],[2,34,42,50]])  #discrete difference means difference of successive elements in array"
   ]
  },
  {
   "cell_type": "code",
   "execution_count": 37,
   "id": "917f0004",
   "metadata": {},
   "outputs": [
    {
     "data": {
      "text/plain": [
       "array([[ 11,   0],\n",
       "       [-24,   0]])"
      ]
     },
     "execution_count": 37,
     "metadata": {},
     "output_type": "execute_result"
    }
   ],
   "source": [
    "np.diff([[1,2,14,26],[2,34,42,50]],n=2) #same operation will be performed n times"
   ]
  },
  {
   "cell_type": "code",
   "execution_count": null,
   "id": "52244fe6",
   "metadata": {},
   "outputs": [],
   "source": []
  }
 ],
 "metadata": {
  "kernelspec": {
   "display_name": "Python 3 (ipykernel)",
   "language": "python",
   "name": "python3"
  },
  "language_info": {
   "codemirror_mode": {
    "name": "ipython",
    "version": 3
   },
   "file_extension": ".py",
   "mimetype": "text/x-python",
   "name": "python",
   "nbconvert_exporter": "python",
   "pygments_lexer": "ipython3",
   "version": "3.10.0"
  }
 },
 "nbformat": 4,
 "nbformat_minor": 5
}

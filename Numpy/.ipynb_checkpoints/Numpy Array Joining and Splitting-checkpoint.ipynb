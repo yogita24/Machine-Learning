{
 "cells": [
  {
   "cell_type": "markdown",
   "id": "5aa40219",
   "metadata": {},
   "source": [
    "# Numpy Array Joining And Splitting"
   ]
  },
  {
   "cell_type": "markdown",
   "id": "cf444cf0",
   "metadata": {},
   "source": [
    "## Array Joining:concatenate()\n",
    "\n",
    "Joining means putting content of two or more arrays in single array.In SQL we join two or more tables on the basis of key.\n",
    "In Numpy, we join arrays by axes.We pass sequense of array to concatenate function along with axis, if axis is not mentioned explicity by default it is considered as zero.\n",
    "\n",
    "* rows - axis=1\n",
    "* column - axis=0"
   ]
  },
  {
   "cell_type": "code",
   "execution_count": 2,
   "id": "a6c146df",
   "metadata": {},
   "outputs": [
    {
     "name": "stdout",
     "output_type": "stream",
     "text": [
      "[1 2 3 4 5] [6 7 8 9]\n",
      "[1 2 3 4 5 6 7 8 9]\n"
     ]
    }
   ],
   "source": [
    "import numpy as np\n",
    "arr1=np.array(range(1,6))\n",
    "arr2=np.array(range(6,10))\n",
    "print(arr1,arr2)\n",
    "arr=np.concatenate((arr1,arr2))# by default axis is 0\n",
    "print(arr)"
   ]
  },
  {
   "cell_type": "code",
   "execution_count": 12,
   "id": "1ac00baf",
   "metadata": {},
   "outputs": [
    {
     "name": "stdout",
     "output_type": "stream",
     "text": [
      "\n",
      "Join array by column axis=0\n",
      " [[1 2]\n",
      " [3 4]\n",
      " [5 6]\n",
      " [8 8]\n",
      " [8 8]\n",
      " [8 8]]\n",
      "\n",
      "Join array by row axis=1\n",
      " [[1 2 8 8]\n",
      " [3 4 8 8]\n",
      " [5 6 8 8]]\n"
     ]
    }
   ],
   "source": [
    "#2d array\n",
    "arr1=np.arange(1,7).reshape(3,2)\n",
    "arr2=np.full((3,2),8)\n",
    "arr=np.concatenate((arr1,arr2))\n",
    "arr3=np.concatenate((arr1,arr2),axis=1)\n",
    "print(\"\\nJoin array by column axis=0\\n\",arr)\n",
    "print(\"\\nJoin array by row axis=1\\n\",arr3)\n"
   ]
  },
  {
   "cell_type": "markdown",
   "id": "412d2a5c",
   "metadata": {},
   "source": [
    "## Joining Arrays using Stack Function"
   ]
  },
  {
   "cell_type": "markdown",
   "id": "a5a43551",
   "metadata": {},
   "source": [
    "It is same as concatenate function with the one distinction that stacking is done along new axis.by default axis is 0."
   ]
  },
  {
   "cell_type": "code",
   "execution_count": 17,
   "id": "c1b826cf",
   "metadata": {},
   "outputs": [
    {
     "name": "stdout",
     "output_type": "stream",
     "text": [
      "[[1 2]\n",
      " [3 4]\n",
      " [5 6]] \n",
      "arr2:\n",
      "\n",
      " [[8 8]\n",
      " [8 8]\n",
      " [8 8]]\n",
      "\n",
      "\n",
      " [[[1 2]\n",
      "  [3 4]\n",
      "  [5 6]]\n",
      "\n",
      " [[8 8]\n",
      "  [8 8]\n",
      "  [8 8]]] \n",
      "\n",
      "along axis1:\n",
      "\n",
      " [[[1 2]\n",
      "  [8 8]]\n",
      "\n",
      " [[3 4]\n",
      "  [8 8]]\n",
      "\n",
      " [[5 6]\n",
      "  [8 8]]]\n"
     ]
    }
   ],
   "source": [
    "arr1=np.arange(1,7).reshape(3,2)\n",
    "arr2=np.full((3,2),8)\n",
    "arr=np.stack((arr1,arr2))\n",
    "print(arr1,\"\\narr2:\\n\\n\",arr2)\n",
    "arr3=np.stack((arr1,arr2),axis=1)\n",
    "print(\"\\n\\n\",arr,\"\\n\\nalong axis1:\\n\\n\",arr3)"
   ]
  },
  {
   "cell_type": "markdown",
   "id": "890f247d",
   "metadata": {},
   "source": [
    "# hstack(),vstack(),dstack()"
   ]
  },
  {
   "cell_type": "markdown",
   "id": "9e007646",
   "metadata": {},
   "source": [
    "Numpy provides helper functions in order to stack along:\n",
    "* horizontal/rows- hstack()\n",
    "* column - vstack()\n",
    "* height/depth - dstack()"
   ]
  },
  {
   "cell_type": "code",
   "execution_count": 18,
   "id": "4bda8df4",
   "metadata": {},
   "outputs": [
    {
     "name": "stdout",
     "output_type": "stream",
     "text": [
      "[[1 2 8 8]\n",
      " [3 4 8 8]\n",
      " [5 6 8 8]]\n"
     ]
    }
   ],
   "source": [
    "hstack=np.hstack((arr1,arr2))\n",
    "print(hstack)"
   ]
  },
  {
   "cell_type": "code",
   "execution_count": 19,
   "id": "7051fd36",
   "metadata": {},
   "outputs": [
    {
     "data": {
      "text/plain": [
       "array([[1, 2],\n",
       "       [3, 4],\n",
       "       [5, 6],\n",
       "       [8, 8],\n",
       "       [8, 8],\n",
       "       [8, 8]])"
      ]
     },
     "execution_count": 19,
     "metadata": {},
     "output_type": "execute_result"
    }
   ],
   "source": [
    "vstack=np.vstack((arr1,arr2))\n",
    "vstack"
   ]
  },
  {
   "cell_type": "code",
   "execution_count": 21,
   "id": "5b293f9d",
   "metadata": {},
   "outputs": [
    {
     "data": {
      "text/plain": [
       "array([[[1, 8],\n",
       "        [2, 8]],\n",
       "\n",
       "       [[3, 8],\n",
       "        [4, 8]],\n",
       "\n",
       "       [[5, 8],\n",
       "        [6, 8]]])"
      ]
     },
     "execution_count": 21,
     "metadata": {},
     "output_type": "execute_result"
    }
   ],
   "source": [
    "dstack=np.dstack((arr1,arr2))\n",
    "dstack"
   ]
  },
  {
   "cell_type": "markdown",
   "id": "d228e40a",
   "metadata": {},
   "source": [
    "# Splitting Array"
   ]
  },
  {
   "cell_type": "markdown",
   "id": "cae8780b",
   "metadata": {},
   "source": [
    "Joining merges two or more arrays into one,where splitting breaks one array into multiple arrays.\n",
    "\n",
    "* array_split() : We use it for splitting array ,we can pass array we want to split and the number of splits.If array has less element as required than it will adjust from end accordingly.\n",
    "\n"
   ]
  },
  {
   "cell_type": "code",
   "execution_count": 26,
   "id": "04ac39f0",
   "metadata": {},
   "outputs": [
    {
     "data": {
      "text/plain": [
       "[array([[[1, 8],\n",
       "         [2, 8]],\n",
       " \n",
       "        [[3, 8],\n",
       "         [4, 8]]]),\n",
       " array([[[5, 8],\n",
       "         [6, 8]]])]"
      ]
     },
     "execution_count": 26,
     "metadata": {},
     "output_type": "execute_result"
    }
   ],
   "source": [
    "d=np.array_split(dstack,2)\n",
    "d"
   ]
  },
  {
   "cell_type": "code",
   "execution_count": 28,
   "id": "33dc62b1",
   "metadata": {},
   "outputs": [
    {
     "data": {
      "text/plain": [
       "[array([[[1, 8]],\n",
       " \n",
       "        [[3, 8]],\n",
       " \n",
       "        [[5, 8]]]),\n",
       " array([[[2, 8]],\n",
       " \n",
       "        [[4, 8]],\n",
       " \n",
       "        [[6, 8]]]),\n",
       " array([], shape=(3, 0, 2), dtype=int32)]"
      ]
     },
     "execution_count": 28,
     "metadata": {},
     "output_type": "execute_result"
    }
   ],
   "source": [
    "d=np.array_split(dstack,3,axis=1)#similar to hsplit\n",
    "d"
   ]
  },
  {
   "cell_type": "code",
   "execution_count": 29,
   "id": "9fa2947d",
   "metadata": {},
   "outputs": [
    {
     "data": {
      "text/plain": [
       "[array([[[1, 8]],\n",
       " \n",
       "        [[3, 8]],\n",
       " \n",
       "        [[5, 8]]]),\n",
       " array([[[2, 8]],\n",
       " \n",
       "        [[4, 8]],\n",
       " \n",
       "        [[6, 8]]])]"
      ]
     },
     "execution_count": 29,
     "metadata": {},
     "output_type": "execute_result"
    }
   ],
   "source": [
    "d=np.hsplit(dstack,2)\n",
    "d"
   ]
  },
  {
   "cell_type": "code",
   "execution_count": 31,
   "id": "23f2a7c7",
   "metadata": {},
   "outputs": [
    {
     "data": {
      "text/plain": [
       "[array([[[1, 8],\n",
       "         [2, 8]]]),\n",
       " array([[[3, 8],\n",
       "         [4, 8]]]),\n",
       " array([[[5, 8],\n",
       "         [6, 8]]])]"
      ]
     },
     "execution_count": 31,
     "metadata": {},
     "output_type": "execute_result"
    }
   ],
   "source": [
    "d=np.vsplit(dstack,3)\n",
    "d"
   ]
  },
  {
   "cell_type": "code",
   "execution_count": 34,
   "id": "bfa9e009",
   "metadata": {},
   "outputs": [
    {
     "data": {
      "text/plain": [
       "[array([[[1],\n",
       "         [2]],\n",
       " \n",
       "        [[3],\n",
       "         [4]],\n",
       " \n",
       "        [[5],\n",
       "         [6]]]),\n",
       " array([[[8],\n",
       "         [8]],\n",
       " \n",
       "        [[8],\n",
       "         [8]],\n",
       " \n",
       "        [[8],\n",
       "         [8]]])]"
      ]
     },
     "execution_count": 34,
     "metadata": {},
     "output_type": "execute_result"
    }
   ],
   "source": [
    "d=np.dsplit(dstack,2)\n",
    "d"
   ]
  }
 ],
 "metadata": {
  "kernelspec": {
   "display_name": "Python 3 (ipykernel)",
   "language": "python",
   "name": "python3"
  },
  "language_info": {
   "codemirror_mode": {
    "name": "ipython",
    "version": 3
   },
   "file_extension": ".py",
   "mimetype": "text/x-python",
   "name": "python",
   "nbconvert_exporter": "python",
   "pygments_lexer": "ipython3",
   "version": "3.10.0"
  }
 },
 "nbformat": 4,
 "nbformat_minor": 5
}

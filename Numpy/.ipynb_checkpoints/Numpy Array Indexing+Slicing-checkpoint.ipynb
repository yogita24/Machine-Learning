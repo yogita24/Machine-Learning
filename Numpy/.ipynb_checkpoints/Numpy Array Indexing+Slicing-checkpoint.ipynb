{
 "cells": [
  {
   "cell_type": "markdown",
   "id": "b198f933",
   "metadata": {},
   "source": [
    "# Numpy Array Indexing"
   ]
  },
  {
   "cell_type": "markdown",
   "id": "49cf412c",
   "metadata": {},
   "source": [
    "1. Numpy indexing is same as accessing numpy array.\n",
    "2. We can access numpy array elements refering Index and Boolean Index.\n",
    "3. Array index begins from 0 i.e first element is at position/index 0."
   ]
  },
  {
   "cell_type": "markdown",
   "id": "21be4eef",
   "metadata": {},
   "source": [
    "## Implemention"
   ]
  },
  {
   "cell_type": "markdown",
   "id": "ddb20d70",
   "metadata": {},
   "source": [
    "### 1-D array:"
   ]
  },
  {
   "cell_type": "code",
   "execution_count": 5,
   "id": "52596970",
   "metadata": {},
   "outputs": [
    {
     "name": "stdout",
     "output_type": "stream",
     "text": [
      "List:[1, 2, 3, 4, 5],Type:<class 'list'>\n"
     ]
    }
   ],
   "source": [
    "*list1,=1,2,3,4,5\n",
    "print(f\"List:{list1},Type:{type(list1)}\")"
   ]
  },
  {
   "cell_type": "code",
   "execution_count": 26,
   "id": "e045fe2b",
   "metadata": {},
   "outputs": [
    {
     "name": "stdout",
     "output_type": "stream",
     "text": [
      "Dimensions:1 ; Array Shape:(5,)\n",
      "[1 2 3 4 5]\n",
      "1\n",
      "Passing list of index to array: [1 3]\n"
     ]
    }
   ],
   "source": [
    "import numpy as np\n",
    "arr=np.array(list1)\n",
    "print(f\"Dimensions:{arr.ndim} ; Array Shape:{arr.shape}\")\n",
    "print(arr) \n",
    "print(arr[0])##accessing first element;passing index\n",
    "print(\"Passing list of index to array:\",arr[[0,2]]) #passing list of index"
   ]
  },
  {
   "cell_type": "markdown",
   "id": "a142c1ca",
   "metadata": {},
   "source": [
    "### 2-D array:"
   ]
  },
  {
   "cell_type": "code",
   "execution_count": 65,
   "id": "266e4035",
   "metadata": {},
   "outputs": [
    {
     "name": "stdout",
     "output_type": "stream",
     "text": [
      "Dimensions:2 ; Array Shape:(1, 5)\n",
      "[[1 2 3 4 5]] \n",
      " 3 \n",
      " 2\n",
      "Passing list of index to array: [3 4]\n"
     ]
    }
   ],
   "source": [
    "arr=np.array(list1,ndmin=2)\n",
    "print(f\"Dimensions:{arr.ndim} ; Array Shape:{arr.shape}\")\n",
    "print(arr,\"\\n\",arr[0,2],\"\\n\",arr[0][1]) #passing index to access array\n",
    "print(\"Passing list of index to array:\",arr[0][[2,3]])"
   ]
  },
  {
   "cell_type": "markdown",
   "id": "ac70534e",
   "metadata": {},
   "source": [
    "### 3-D array :"
   ]
  },
  {
   "cell_type": "code",
   "execution_count": 89,
   "id": "983b1c83",
   "metadata": {},
   "outputs": [
    {
     "name": "stdout",
     "output_type": "stream",
     "text": [
      "Dimensions:3 ; Array Shape:(2, 2, 3)\n",
      "[[[1 2 3]\n",
      "  [2 4 5]]\n",
      "\n",
      " [[2 3 4]\n",
      "  [4 5 6]]] \n",
      " 5 \n",
      " 5\n",
      "Passing list of index to array: [5 6]\n"
     ]
    }
   ],
   "source": [
    "arr=np.array([[[1,2,3],[2,4,5]],[[2,3,4],[4,5,6]]])\n",
    "print(f\"Dimensions:{arr.ndim} ; Array Shape:{arr.shape}\")\n",
    "print(arr,\"\\n\",arr[0,1,2],\"\\n\",arr[0][1][2]) #passing index to access array\n",
    "print(\"Passing list of index to array:\",arr[1][1][[1,2]])"
   ]
  },
  {
   "cell_type": "markdown",
   "id": "14d37797",
   "metadata": {},
   "source": [
    "## Boolean Indexing"
   ]
  },
  {
   "cell_type": "code",
   "execution_count": 59,
   "id": "607af1e0",
   "metadata": {},
   "outputs": [
    {
     "name": "stdout",
     "output_type": "stream",
     "text": [
      "[1 2 3 4 5]\n",
      "[ True False  True False  True]\n"
     ]
    },
    {
     "data": {
      "text/plain": [
       "array([1, 3, 5])"
      ]
     },
     "execution_count": 59,
     "metadata": {},
     "output_type": "execute_result"
    }
   ],
   "source": [
    "arr=np.array(list1)\n",
    "print(arr)\n",
    "print(arr%2==1) # will go through each element and returns list of boolean values.\n",
    "arr[arr%2==1]  #list of boolean values is feeded as index;Boolean indexing."
   ]
  },
  {
   "cell_type": "code",
   "execution_count": 63,
   "id": "231bd42b",
   "metadata": {},
   "outputs": [
    {
     "name": "stdout",
     "output_type": "stream",
     "text": [
      "Dimensions:3 ; Array Shape:(2, 2, 3)\n",
      "[[[1 2 3]\n",
      "  [2 4 5]]\n",
      "\n",
      " [[2 3 4]\n",
      "  [4 5 6]]]\n",
      "[[[False  True False]\n",
      "  [ True  True False]]\n",
      "\n",
      " [[ True False  True]\n",
      "  [ True False  True]]]\n",
      "Passing Boolean Indexing [2 2 4 2 4 4 6]\n"
     ]
    }
   ],
   "source": [
    "arr=np.array([[[1,2,3],[2,4,5]],[[2,3,4],[4,5,6]]])\n",
    "print(f\"Dimensions:{arr.ndim} ; Array Shape:{arr.shape}\")\n",
    "print(arr)\n",
    "print(arr%2==0)\n",
    "print(\"Passing Boolean Indexing\",arr[arr%2==0])#passing boolean index\n"
   ]
  },
  {
   "cell_type": "markdown",
   "id": "fff20bce",
   "metadata": {},
   "source": [
    "# Nump Array Slicing"
   ]
  },
  {
   "cell_type": "markdown",
   "id": "674c7d42",
   "metadata": {},
   "source": [
    "Slicing means taking elements from one given index to another given index.\n",
    "\n",
    "**Syntax**\n",
    "1. Instead of index we can pass slice ike this- [start:end:steps]\n",
    "*By default start is 0, end is length of array,step is 1.*"
   ]
  },
  {
   "cell_type": "code",
   "execution_count": 109,
   "id": "7bcba238",
   "metadata": {},
   "outputs": [
    {
     "name": "stdout",
     "output_type": "stream",
     "text": [
      "[[[ 1  2  3  4  5]\n",
      "  [ 6  7  8  9 10]]]\n",
      "Sliced array: [[[ 4  5]\n",
      "  [ 9 10]]]\n",
      "[[ 3  9]\n",
      " [ 3 10]]\n"
     ]
    }
   ],
   "source": [
    "list2=[6,7,8,9,10]\n",
    "arr=np.array([list1,list2],ndmin=3)\n",
    "print(arr)\n",
    "print(\"Sliced array:\",arr[:,:,3:])"
   ]
  },
  {
   "cell_type": "code",
   "execution_count": null,
   "id": "e61cd89d",
   "metadata": {},
   "outputs": [],
   "source": []
  }
 ],
 "metadata": {
  "kernelspec": {
   "display_name": "Python 3 (ipykernel)",
   "language": "python",
   "name": "python3"
  },
  "language_info": {
   "codemirror_mode": {
    "name": "ipython",
    "version": 3
   },
   "file_extension": ".py",
   "mimetype": "text/x-python",
   "name": "python",
   "nbconvert_exporter": "python",
   "pygments_lexer": "ipython3",
   "version": "3.10.0"
  }
 },
 "nbformat": 4,
 "nbformat_minor": 5
}

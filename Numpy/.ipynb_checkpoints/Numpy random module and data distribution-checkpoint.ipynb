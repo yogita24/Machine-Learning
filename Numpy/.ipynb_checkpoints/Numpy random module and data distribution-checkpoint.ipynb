{
 "cells": [
  {
   "cell_type": "markdown",
   "id": "e2a824f5",
   "metadata": {},
   "source": [
    "# Numpy random module"
   ]
  },
  {
   "cell_type": "markdown",
   "id": "d3cc9b13",
   "metadata": {},
   "source": [
    "Random number does not mean a different number every time rather it is  the one that cannot be predicted logically.\n",
    "\n",
    "Numpy provides random module to work with random numbers.\n",
    "\n",
    "* random.randint() - to generate random integer number.We can provide size and start and end of the array.\n",
    "* random.rand()- to generate float numbers.(between 0 and 1)"
   ]
  },
  {
   "cell_type": "code",
   "execution_count": 2,
   "id": "b2d61d98",
   "metadata": {},
   "outputs": [],
   "source": [
    "import numpy as np"
   ]
  },
  {
   "cell_type": "code",
   "execution_count": 19,
   "id": "1419766f",
   "metadata": {},
   "outputs": [
    {
     "data": {
      "text/plain": [
       "array([153, 153, 170, 109, 181])"
      ]
     },
     "execution_count": 19,
     "metadata": {},
     "output_type": "execute_result"
    }
   ],
   "source": [
    "arr=np.random.randint(100,200,5) #start=100,end=200,size=5\n",
    "arr"
   ]
  },
  {
   "cell_type": "code",
   "execution_count": 26,
   "id": "50a2cfe2",
   "metadata": {},
   "outputs": [
    {
     "data": {
      "text/plain": [
       "array([0.93881249, 0.26205444])"
      ]
     },
     "execution_count": 26,
     "metadata": {},
     "output_type": "execute_result"
    }
   ],
   "source": [
    "arr=np.random.rand(2) #size=2 #to generate number between 0 and 1 # sample from uniform distribution\n",
    "arr"
   ]
  },
  {
   "cell_type": "code",
   "execution_count": 61,
   "id": "14daa55f",
   "metadata": {},
   "outputs": [
    {
     "data": {
      "text/plain": [
       "array([[ 0.29647915,  1.05922242],\n",
       "       [-0.66123715, -0.30023158],\n",
       "       [-0.20145292,  0.34103942]])"
      ]
     },
     "execution_count": 61,
     "metadata": {},
     "output_type": "execute_result"
    }
   ],
   "source": [
    "arr=np.random.randn(3,2)#return sample data from normal distribution\n",
    "arr"
   ]
  },
  {
   "cell_type": "markdown",
   "id": "4560c4c0",
   "metadata": {},
   "source": [
    "Useful Functions from random module\n",
    "* **choice() - Return elements randomly selected from passed array.**\n",
    "\n",
    "\n",
    "* **shuffle() - Changes arrangement of elements in original array**\n",
    "\n",
    "* **permutation() - return permutation of array/shuffled array.**"
   ]
  },
  {
   "cell_type": "code",
   "execution_count": 66,
   "id": "4118ea75",
   "metadata": {},
   "outputs": [
    {
     "data": {
      "text/plain": [
       "array([-0.66123715, -0.66123715,  1.05922242])"
      ]
     },
     "execution_count": 66,
     "metadata": {},
     "output_type": "execute_result"
    }
   ],
   "source": [
    "x=np.random.choice(arr.flatten(),3)\n",
    "x"
   ]
  },
  {
   "cell_type": "code",
   "execution_count": 73,
   "id": "592ef537",
   "metadata": {},
   "outputs": [
    {
     "name": "stdout",
     "output_type": "stream",
     "text": [
      "[[-0.66123715 -0.30023158]\n",
      " [ 0.29647915  1.05922242]\n",
      " [-0.20145292  0.34103942]]\n"
     ]
    }
   ],
   "source": [
    "np.random.shuffle(arr)#occurs inplace\n",
    "print(arr)#original array is "
   ]
  },
  {
   "cell_type": "code",
   "execution_count": 75,
   "id": "40ecf4a6",
   "metadata": {},
   "outputs": [
    {
     "data": {
      "text/plain": [
       "array([[ 0.29647915,  1.05922242],\n",
       "       [-0.66123715, -0.30023158],\n",
       "       [-0.20145292,  0.34103942]])"
      ]
     },
     "execution_count": 75,
     "metadata": {},
     "output_type": "execute_result"
    }
   ],
   "source": [
    "x=np.random.permutation(arr)\n",
    "x"
   ]
  },
  {
   "cell_type": "markdown",
   "id": "52764f6e",
   "metadata": {},
   "source": [
    "## Random Data Distribution"
   ]
  },
  {
   "cell_type": "markdown",
   "id": "585e9f92",
   "metadata": {},
   "source": [
    "Data Distribution is the list of possible outcomes and how often each value occur.\n",
    "\n",
    "### Random Distribution:\n",
    "It is a set of random numbers that follow a certain probability density function.\n",
    "\n",
    "### Probability Density Function:\n",
    "A function that defines continuous probabilty;probability of all values in an array.\n",
    "\n",
    "*We can generate random number based on defined probabilities using **choice** function of random module.It allows you to define probability for each value in array and it should be between 0 and 1."
   ]
  },
  {
   "cell_type": "code",
   "execution_count": 78,
   "id": "129a8784",
   "metadata": {},
   "outputs": [
    {
     "data": {
      "text/plain": [
       "array([4, 4, 2, 9, 2, 2, 4, 5, 9, 9, 2, 9, 5, 2, 4, 9, 4, 5, 9, 2, 9, 9,\n",
       "       9, 9, 9, 2, 2, 4, 9, 4, 2, 2, 2, 4, 9, 9, 5, 4, 9, 9, 9, 5, 9, 2,\n",
       "       4, 2, 9, 2, 2, 2, 4, 5, 4, 2, 9, 2, 4, 2, 9, 9, 5, 9, 9, 9, 2, 9,\n",
       "       5, 9, 2, 9, 9, 4, 2, 2, 4, 2, 9, 9, 2, 4, 2, 9, 4, 4, 2, 9, 9, 9,\n",
       "       2, 5, 2, 2, 2, 5, 2, 2, 2, 4, 5, 9])"
      ]
     },
     "execution_count": 78,
     "metadata": {},
     "output_type": "execute_result"
    }
   ],
   "source": [
    "x=np.random.choice([2,4,9,5],p=[0.4,0.2,0.3,0.1],size=(100))\n",
    "x"
   ]
  }
 ],
 "metadata": {
  "kernelspec": {
   "display_name": "Python 3 (ipykernel)",
   "language": "python",
   "name": "python3"
  },
  "language_info": {
   "codemirror_mode": {
    "name": "ipython",
    "version": 3
   },
   "file_extension": ".py",
   "mimetype": "text/x-python",
   "name": "python",
   "nbconvert_exporter": "python",
   "pygments_lexer": "ipython3",
   "version": "3.10.0"
  }
 },
 "nbformat": 4,
 "nbformat_minor": 5
}

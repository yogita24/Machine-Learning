{
 "cells": [
  {
   "cell_type": "markdown",
   "id": "e52f0a55",
   "metadata": {},
   "source": [
    "# Numpy Sorting"
   ]
  },
  {
   "cell_type": "markdown",
   "id": "5e137ba8",
   "metadata": {},
   "source": [
    "We can use sort() function to sort numpy arrays.\n"
   ]
  },
  {
   "cell_type": "code",
   "execution_count": 10,
   "id": "13fe2e99",
   "metadata": {},
   "outputs": [
    {
     "name": "stdout",
     "output_type": "stream",
     "text": [
      "\n",
      "Original Array\n",
      "\n",
      " [[ 2  7  3]\n",
      " [ 4  9  0]\n",
      " [ 1 10  3]]\n",
      "Sorted Array\n",
      "\n",
      " [[ 2  3  7]\n",
      " [ 0  4  9]\n",
      " [ 1  3 10]]\n"
     ]
    }
   ],
   "source": [
    "import numpy as np\n",
    "arr=np.array([2,7,3,4,9,0,1,10,3]).reshape(3,-1)\n",
    "arr1=np.sort(arr)\n",
    "print(\"\\nOriginal Array\\n\\n\",arr)\n",
    "print(\"Sorted Array\\n\\n\",arr1)\n"
   ]
  },
  {
   "cell_type": "code",
   "execution_count": 11,
   "id": "2bcba35c",
   "metadata": {},
   "outputs": [
    {
     "data": {
      "text/plain": [
       "array([[ 2,  3,  7],\n",
       "       [ 0,  4,  9],\n",
       "       [ 1,  3, 10]])"
      ]
     },
     "execution_count": 11,
     "metadata": {},
     "output_type": "execute_result"
    }
   ],
   "source": [
    "#to sort array inplace do as follows:\n",
    "arr.sort()\n",
    "arr"
   ]
  },
  {
   "cell_type": "markdown",
   "id": "c8a116e9",
   "metadata": {},
   "source": [
    "* **argsort()** - returns index of sorted array."
   ]
  },
  {
   "cell_type": "code",
   "execution_count": 73,
   "id": "91ce34c0",
   "metadata": {},
   "outputs": [
    {
     "name": "stdout",
     "output_type": "stream",
     "text": [
      "[[11 17 66 30]\n",
      " [31 10 75  2]\n",
      " [42 38 18 13]] \n",
      "\n",
      " sorted index:\n",
      "\n",
      " [[0 1 3 2]\n",
      " [3 1 0 2]\n",
      " [3 2 1 0]] \n",
      "\n",
      "Reversed index:\n",
      " [[2 3 1 0]\n",
      " [2 0 1 3]\n",
      " [0 1 2 3]]\n",
      "\n",
      " [11 17 30 66]\n"
     ]
    }
   ],
   "source": [
    "np.random.seed(10)\n",
    "arr=np.random.randint(2,90,(3,4))\n",
    "indx=arr.argsort()\n",
    "print(arr,\"\\n\\n sorted index:\\n\\n\",indx,\"\\n\\nReversed index:\\n\",indx[:,::-1])\n",
    "print(\"\\n\",arr[0][indx[0]])\n"
   ]
  },
  {
   "cell_type": "code",
   "execution_count": 66,
   "id": "9bf262c2",
   "metadata": {},
   "outputs": [
    {
     "name": "stdout",
     "output_type": "stream",
     "text": [
      "[70 58 47 87 78 55] [169 158 181 198 187 174] ['a' 'b' 'c' 'd' 'e' 'f']\n",
      "['c' 'f' 'b' 'a' 'e' 'd']\n",
      "[47 55 58 70 78 87]\n",
      "[181 174 158 169 187 198]\n"
     ]
    }
   ],
   "source": [
    "np.random.seed(27)\n",
    "height=np.random.randint(150,200,6)\n",
    "weight=np.random.randint(45,89,6)\n",
    "names=np.array(['a',\"b\",'c','d','e','f'])\n",
    "sortedin=weight.argsort()\n",
    "print(weight,height,names)\n",
    "print(names[sortedin])\n",
    "print(weight[sortedin])\n",
    "print(height[sortedin])\n"
   ]
  }
 ],
 "metadata": {
  "kernelspec": {
   "display_name": "Python 3 (ipykernel)",
   "language": "python",
   "name": "python3"
  },
  "language_info": {
   "codemirror_mode": {
    "name": "ipython",
    "version": 3
   },
   "file_extension": ".py",
   "mimetype": "text/x-python",
   "name": "python",
   "nbconvert_exporter": "python",
   "pygments_lexer": "ipython3",
   "version": "3.10.0"
  }
 },
 "nbformat": 4,
 "nbformat_minor": 5
}

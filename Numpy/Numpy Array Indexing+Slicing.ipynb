{
 "cells": [
  {
   "cell_type": "markdown",
   "id": "651176c4",
   "metadata": {},
   "source": [
    "# Numpy Array Indexing"
   ]
  },
  {
   "cell_type": "markdown",
   "id": "8f42bb15",
   "metadata": {},
   "source": [
    "1. Numpy indexing is same as accessing numpy array.\n",
    "2. We can access numpy array elements refering Index and Boolean Index.\n",
    "3. Array index begins from 0 i.e first element is at position/index 0."
   ]
  },
  {
   "cell_type": "markdown",
   "id": "932b79ba",
   "metadata": {},
   "source": [
    "## Implemention"
   ]
  },
  {
   "cell_type": "markdown",
   "id": "ba1bc8ef",
   "metadata": {},
   "source": [
    "### 1-D array:"
   ]
  },
  {
   "cell_type": "code",
   "execution_count": 161,
   "id": "d25477a7",
   "metadata": {},
   "outputs": [
    {
     "name": "stdout",
     "output_type": "stream",
     "text": [
      "List:[1, 2, 3, 4, 5],Type:<class 'list'>\n"
     ]
    }
   ],
   "source": [
    "*list1,=1,2,3,4,5\n",
    "print(f\"List:{list1},Type:{type(list1)}\")"
   ]
  },
  {
   "cell_type": "code",
   "execution_count": 162,
   "id": "d28b80ab",
   "metadata": {},
   "outputs": [
    {
     "name": "stdout",
     "output_type": "stream",
     "text": [
      "Dimensions:1 ; Array Shape:(5,)\n",
      "[1 2 3 4 5]\n",
      "1\n",
      "Passing list of index to array: [1 3]\n"
     ]
    }
   ],
   "source": [
    "import numpy as np\n",
    "arr=np.array(list1)\n",
    "print(f\"Dimensions:{arr.ndim} ; Array Shape:{arr.shape}\")\n",
    "print(arr) \n",
    "print(arr[0])##accessing first element;passing index\n",
    "print(\"Passing list of index to array:\",arr[[0,2]]) #passing list of index"
   ]
  },
  {
   "cell_type": "markdown",
   "id": "603cd003",
   "metadata": {},
   "source": [
    "### 2-D array:"
   ]
  },
  {
   "cell_type": "code",
   "execution_count": 163,
   "id": "0f7613e0",
   "metadata": {},
   "outputs": [
    {
     "name": "stdout",
     "output_type": "stream",
     "text": [
      "Dimensions:2 ; Array Shape:(1, 5)\n",
      "[[1 2 3 4 5]] \n",
      " 3 \n",
      " 2\n",
      "Passing list of index to array: [3 4]\n"
     ]
    }
   ],
   "source": [
    "arr=np.array(list1,ndmin=2)\n",
    "print(f\"Dimensions:{arr.ndim} ; Array Shape:{arr.shape}\")\n",
    "print(arr,\"\\n\",arr[0,2],\"\\n\",arr[0][1]) #passing index to access array\n",
    "print(\"Passing list of index to array:\",arr[0][[2,3]])"
   ]
  },
  {
   "cell_type": "markdown",
   "id": "b74b1b51",
   "metadata": {},
   "source": [
    "### 3-D array :"
   ]
  },
  {
   "cell_type": "code",
   "execution_count": 164,
   "id": "4f718d8d",
   "metadata": {},
   "outputs": [
    {
     "name": "stdout",
     "output_type": "stream",
     "text": [
      "Dimensions:3 ; Array Shape:(2, 2, 3)\n",
      "[[[1 2 3]\n",
      "  [2 4 5]]\n",
      "\n",
      " [[2 3 4]\n",
      "  [4 5 6]]] \n",
      " 5 \n",
      " 5\n",
      "Passing list of index to array: [5 6]\n"
     ]
    }
   ],
   "source": [
    "arr=np.array([[[1,2,3],[2,4,5]],[[2,3,4],[4,5,6]]])\n",
    "print(f\"Dimensions:{arr.ndim} ; Array Shape:{arr.shape}\")\n",
    "print(arr,\"\\n\",arr[0,1,2],\"\\n\",arr[0][1][2]) #passing index to access array\n",
    "print(\"Passing list of index to array:\",arr[1][1][[1,2]])"
   ]
  },
  {
   "cell_type": "markdown",
   "id": "5eebb32c",
   "metadata": {},
   "source": [
    "## Boolean Indexing"
   ]
  },
  {
   "cell_type": "code",
   "execution_count": 165,
   "id": "3ab49d28",
   "metadata": {},
   "outputs": [
    {
     "name": "stdout",
     "output_type": "stream",
     "text": [
      "[1 2 3 4 5]\n",
      "[ True False  True False  True]\n"
     ]
    },
    {
     "data": {
      "text/plain": [
       "array([1, 3, 5])"
      ]
     },
     "execution_count": 165,
     "metadata": {},
     "output_type": "execute_result"
    }
   ],
   "source": [
    "arr=np.array(list1)\n",
    "print(arr)\n",
    "print(arr%2==1) # will go through each element and returns list of boolean values.\n",
    "arr[arr%2==1]  #list of boolean values is feeded as index;Boolean indexing."
   ]
  },
  {
   "cell_type": "code",
   "execution_count": 166,
   "id": "0f727ce0",
   "metadata": {},
   "outputs": [
    {
     "name": "stdout",
     "output_type": "stream",
     "text": [
      "Dimensions:3 ; Array Shape:(2, 2, 3)\n",
      "[[[1 2 3]\n",
      "  [2 4 5]]\n",
      "\n",
      " [[2 3 4]\n",
      "  [4 5 6]]]\n",
      "[[[False  True False]\n",
      "  [ True  True False]]\n",
      "\n",
      " [[ True False  True]\n",
      "  [ True False  True]]]\n",
      "Passing Boolean Indexing [2 2 4 2 4 4 6]\n"
     ]
    }
   ],
   "source": [
    "arr=np.array([[[1,2,3],[2,4,5]],[[2,3,4],[4,5,6]]])\n",
    "print(f\"Dimensions:{arr.ndim} ; Array Shape:{arr.shape}\")\n",
    "print(arr)\n",
    "print(arr%2==0)\n",
    "print(\"Passing Boolean Indexing\",arr[arr%2==0])#passing boolean index\n"
   ]
  },
  {
   "cell_type": "markdown",
   "id": "bbdb8928",
   "metadata": {},
   "source": [
    "# Nump Array Slicing"
   ]
  },
  {
   "cell_type": "markdown",
   "id": "3d3265ae",
   "metadata": {},
   "source": [
    "Slicing means taking elements from one given index to another given index.\n",
    "\n",
    "**Syntax**\n",
    "1. Instead of index we can pass slice ike this- [start:end:steps]\n",
    "*By default start is 0, end is length of array,step is 1.*"
   ]
  },
  {
   "cell_type": "code",
   "execution_count": 167,
   "id": "ac87a61f",
   "metadata": {},
   "outputs": [
    {
     "name": "stdout",
     "output_type": "stream",
     "text": [
      "[1 2 3 4 5]\n",
      "Sliced array: [2]\n",
      "Sliced array with steps: [1 3 5]\n",
      "Negative Indexing: [3 4]\n"
     ]
    }
   ],
   "source": [
    "list2=[6,7,8,9,10]\n",
    "arr=np.array(list1)\n",
    "print(arr)\n",
    "print(\"Sliced array:\",arr[1:4:3])\n",
    "print(\"Sliced array with steps:\",arr[::2])\n",
    "print(\"Negative Indexing:\",arr[-3:-1])"
   ]
  },
  {
   "cell_type": "code",
   "execution_count": 168,
   "id": "b94aebd5",
   "metadata": {},
   "outputs": [
    {
     "name": "stdout",
     "output_type": "stream",
     "text": [
      "[[[ 1  2  3  4  5]\n",
      "  [ 6  7  8  9 10]]]\n",
      "Sliced array with steps:\n",
      " [[[1 3]\n",
      "  [6 8]]]\n",
      "Sliced array: [[[ 3  4  5]\n",
      "  [ 8  9 10]]]\n"
     ]
    }
   ],
   "source": [
    "list2=[6,7,8,9,10]\n",
    "arr=np.array([list1,list2],ndmin=3)\n",
    "print(arr)\n",
    "print(\"Sliced array with steps:\\n\",arr[:,:,:3:2])\n",
    "print(\"Sliced array:\",arr[:,:,2:])"
   ]
  },
  {
   "cell_type": "markdown",
   "id": "9fa7ce31",
   "metadata": {},
   "source": [
    "### Refrencing and Slicing"
   ]
  },
  {
   "cell_type": "code",
   "execution_count": 169,
   "id": "d057029d",
   "metadata": {},
   "outputs": [
    {
     "name": "stdout",
     "output_type": "stream",
     "text": [
      "array1: [[[2 4]\n",
      "  [7 9]]] \n",
      "Dimensions: 3 \tSliced Array Shape: (1, 2, 2) \tOriginal array shape: (1, 2, 5)\n"
     ]
    }
   ],
   "source": [
    "arr1=arr[:,:,1::2] #arr1 is pointing/refrencing to arr,i.e any changes to anyone of the array will reflect in other.\n",
    "print(\"array1:\",arr1,\"\\nDimensions:\",arr1.ndim,\"\\tSliced Array Shape:\",arr1.shape,\"\\tOriginal array shape:\",arr.shape)"
   ]
  },
  {
   "cell_type": "code",
   "execution_count": 170,
   "id": "56e12e97",
   "metadata": {},
   "outputs": [
    {
     "name": "stdout",
     "output_type": "stream",
     "text": [
      "Before changes [[[ 1  2  3  4  5]\n",
      "  [ 6  7  8  9 10]]]\n",
      "Updated: [[[ 1  2  3  4  5]\n",
      "  [ 6 90  8  9 10]]]\n"
     ]
    }
   ],
   "source": [
    "print(\"Before changes\",arr)\n",
    "arr1[0,1,0]=90\n",
    "print(\"Updated:\",arr)"
   ]
  }
 ],
 "metadata": {
  "kernelspec": {
   "display_name": "Python 3 (ipykernel)",
   "language": "python",
   "name": "python3"
  },
  "language_info": {
   "codemirror_mode": {
    "name": "ipython",
    "version": 3
   },
   "file_extension": ".py",
   "mimetype": "text/x-python",
   "name": "python",
   "nbconvert_exporter": "python",
   "pygments_lexer": "ipython3",
   "version": "3.10.0"
  }
 },
 "nbformat": 4,
 "nbformat_minor": 5
}

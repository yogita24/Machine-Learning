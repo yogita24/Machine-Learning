{
 "cells": [
  {
   "cell_type": "markdown",
   "id": "b060fbc5",
   "metadata": {},
   "source": [
    "# Numpy Array Assignment\n",
    "\n",
    "While assigning Numpy arrays we need to be careful how it is being assigned.\n",
    "\n",
    "* Copy by reference\n",
    "* Copy by value(Deep Copy)\n",
    "* Copy by View(Shallow Copy)"
   ]
  },
  {
   "cell_type": "markdown",
   "id": "dcac6427",
   "metadata": {},
   "source": [
    "## Copying by reference\n",
    "\n",
    "1. Assigned array points to original array\n",
    "2. Any changes made to either array(asigned/original) will affect other one.\n",
    "3. Change in shape of original array will reflect in assigned array also.\n"
   ]
  },
  {
   "cell_type": "code",
   "execution_count": 11,
   "id": "97db40ef",
   "metadata": {},
   "outputs": [
    {
     "name": "stdout",
     "output_type": "stream",
     "text": [
      "[0 1 2 3 4 5 6 7 8 9]\n",
      "Changes mades to arr are reflecting in arr1: [ 0  1  2 45  4  5  6  7  8  9]\n",
      "\n",
      " arr: [[ 0  1  2 45  4]\n",
      " [ 5  6  7  8  9]]\n",
      "\n",
      " arr1 [[ 0  1  2 45  4]\n",
      " [ 5  6  7  8  9]]\n",
      "None\n"
     ]
    }
   ],
   "source": [
    "import numpy as np\n",
    "arr=np.arange(10)\n",
    "arr1=arr\n",
    "print(arr1)\n",
    "arr[3]=45\n",
    "print(\"Changes mades to arr are reflecting in arr1:\",arr1)\n",
    "arr.shape=(2,-1) \n",
    "print(\"\\n arr:\",arr)\n",
    "print(\"\\n arr1\",arr1)\n",
    "print(arr1.base)"
   ]
  },
  {
   "cell_type": "markdown",
   "id": "1598ae9f",
   "metadata": {},
   "source": [
    "## Shallow Copy: view()"
   ]
  },
  {
   "cell_type": "markdown",
   "id": "36076393",
   "metadata": {},
   "source": [
    "Numpy has view function that allows us to create cop of an array by reference, while at the same time ensuring that changing the shape of original array doesnot affect the shape of copy."
   ]
  },
  {
   "cell_type": "code",
   "execution_count": 16,
   "id": "2ba4764e",
   "metadata": {},
   "outputs": [
    {
     "name": "stdout",
     "output_type": "stream",
     "text": [
      "[0 1 2 3 4 5 6 7 8 9]\n",
      "Changes mades to arr are reflecting in arr1: [ 0  1  2 45  4  5  6  7  8  9]\n",
      "\n",
      " arr: [[ 0  1  2 45  4]\n",
      " [ 5  6  7  8  9]]\n",
      "\n",
      " arr1 [ 0  1  2 45  4  5  6  7  8  9]\n",
      "\n",
      "arr1 is view of\n",
      " [[ 0  1  2 45  4]\n",
      " [ 5  6  7  8  9]]\n"
     ]
    }
   ],
   "source": [
    "arr=np.arange(10)\n",
    "arr1=arr.view()\n",
    "print(arr1)\n",
    "arr[3]=45\n",
    "print(\"Changes mades to arr are reflecting in arr1:\",arr1)\n",
    "arr.shape=(2,-1)\n",
    "print(\"\\n arr:\",arr)\n",
    "print(\"\\n arr1\",arr1)\n",
    "print(\"\\narr1 is view of\\n\",arr1.base)"
   ]
  },
  {
   "cell_type": "markdown",
   "id": "1ac2f589",
   "metadata": {},
   "source": [
    "## Deep Copy:Copy by value\n",
    "\n",
    "When you want to make complete copy of array and its data.\n",
    "\n",
    "1. Any changes in either array wont affect other one.\n",
    "2. Change in shape of original array wont affect copy and vice versa"
   ]
  },
  {
   "cell_type": "code",
   "execution_count": 18,
   "id": "1eb84d38",
   "metadata": {},
   "outputs": [
    {
     "name": "stdout",
     "output_type": "stream",
     "text": [
      "[0 1 2 3 4 5 6 7 8 9]\n",
      "Changes mades to arr not reflecting in arr1: [0 1 2 3 4 5 6 7 8 9]\n",
      "\n",
      " arr: [[ 0  1  2 45  4]\n",
      " [ 5  6  7  8  9]]\n",
      "\n",
      " arr1 [0 1 2 3 4 5 6 7 8 9]\n",
      "None\n"
     ]
    }
   ],
   "source": [
    "arr=np.arange(10)\n",
    "arr1=arr.copy()\n",
    "print(arr1)\n",
    "arr[3]=45\n",
    "print(\"Changes mades to arr not reflecting in arr1:\",arr1)\n",
    "arr.shape=(2,-1)\n",
    "print(\"\\n arr:\",arr)\n",
    "print(\"\\n arr1\",arr1)\n",
    "print(arr1.base)"
   ]
  }
 ],
 "metadata": {
  "kernelspec": {
   "display_name": "Python 3 (ipykernel)",
   "language": "python",
   "name": "python3"
  },
  "language_info": {
   "codemirror_mode": {
    "name": "ipython",
    "version": 3
   },
   "file_extension": ".py",
   "mimetype": "text/x-python",
   "name": "python",
   "nbconvert_exporter": "python",
   "pygments_lexer": "ipython3",
   "version": "3.10.0"
  }
 },
 "nbformat": 4,
 "nbformat_minor": 5
}

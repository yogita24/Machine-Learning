{
 "cells": [
  {
   "cell_type": "markdown",
   "id": "703b7a07",
   "metadata": {},
   "source": [
    "# Numpy Data Types\n",
    "\n",
    "## Array Reshape.\n",
    "\n",
    "* reshape() - Can be used to reshape any array to another dimension\n",
    "* flatten()- Can be used to convert array to rank 1 array.\n",
    "* ravel()- Can be used to convert array to rank1 array.\n",
    "\n",
    "flatten() works same as reshape(-1,)\n",
    "\n",
    "**Note: Reshape and Ravel refrences the original array i.e we get view but Flatten makes copy of array**\n",
    "\n",
    "*Ravel returns a view of the original array whenever possible. This isn't visible in the printed output, but if you modify the array returned by ravel, it may modify the entries in the original array. If you modify the entries in an array returned from flatten this will never happen. ravel will often be faster since no memory is copied, but you have to be more careful about modifying the array it returns.*"
   ]
  },
  {
   "cell_type": "code",
   "execution_count": 71,
   "id": "7d0a6d6f",
   "metadata": {},
   "outputs": [
    {
     "name": "stdout",
     "output_type": "stream",
     "text": [
      "Array [0 1 2 3 4 5 6 7] \n",
      "Shape (8,)\n",
      "\n",
      "Reshaped array: [[0 1 2 3]\n",
      " [4 5 6 7]] \n",
      "Shape: (2, 4)\n"
     ]
    }
   ],
   "source": [
    "import numpy as np\n",
    "*list1,=range(0,8)\n",
    "arr=np.array(list1)\n",
    "print(\"Array\",arr,\"\\nShape\",arr.shape)\n",
    "ar=arr.reshape(2,-1)\n",
    "print(\"\\nReshaped array:\",ar,\"\\nShape:\",ar.shape)"
   ]
  },
  {
   "cell_type": "code",
   "execution_count": 78,
   "id": "ee5241d1",
   "metadata": {},
   "outputs": [
    {
     "name": "stdout",
     "output_type": "stream",
     "text": [
      "Array [[0 1 2 3]\n",
      " [4 5 6 7]] \n",
      "Shape (2, 4) Memory Location 2382713612560 Base Id: None\n",
      "\n",
      "Reshaped array with reshape: [0 1 2 3 4 5 6 7] \n",
      "Shape: (8,) Memory Location 2382713614864 Base Id: 2382713612560\n",
      "\n",
      "Reshaped array with ravel: [0 1 2 3 4 5 6 7] \n",
      "Shape: (8,) Memory Location 2382695640272 Base Id: 2382713612560\n",
      "\n",
      "Reshaped array with flatten: [0 1 2 3 4 5 6 7] \n",
      "Shape: (8,) Memory Location 2382713614864 Base Id: None\n"
     ]
    }
   ],
   "source": [
    "arr=np.array([[0,1,2,3],[4,5,6,7]])\n",
    "print(\"Array\",arr,\"\\nShape\",arr.shape,\"Memory Location\",id(arr),\"Base Id:\",arr.base)\n",
    "ar=arr.reshape(-1,)\n",
    "print(\"\\nReshaped array with reshape:\",ar,\"\\nShape:\",ar.shape,\"Memory Location\",id(ar),\"Base Id:\",id(ar.base))\n",
    "ar=arr.ravel()\n",
    "print(\"\\nReshaped array with ravel:\",ar,\"\\nShape:\",ar.shape,\"Memory Location\",id(ar),\"Base Id:\",id(ar.base))\n",
    "ar=arr.flatten()\n",
    "print(\"\\nReshaped array with flatten:\",ar,\"\\nShape:\",ar.shape,\"Memory Location\",id(ar),\"Base Id:\",ar.base)\n"
   ]
  },
  {
   "cell_type": "markdown",
   "id": "5ba1bb06",
   "metadata": {},
   "source": [
    "## DataTypes in Numpy\n",
    "\n",
    "Numpy data types can be referred as one character;\n",
    "* Integer - i\n",
    "* Float -f\n",
    "* Unsigned integer - u\n",
    "* String - S\n",
    "* Boolean - b\n",
    "* Unicode String - U\n",
    "* Complex Float - c\n",
    "* Object - O\n",
    "\n",
    "\n",
    "* dtype - to check datatype of array object.\n",
    "\n",
    "Important Points:\n",
    "\n",
    "1. We can define expected data type of elements for array at time of array creation.\n",
    "2. For existing array type casting can be done through function astype(); it return copy of array with changed data type.\n",
    "3. We can also define size for data type.For eg: 'i6'-int of 6 bytes.\n",
    "\n"
   ]
  },
  {
   "cell_type": "code",
   "execution_count": 89,
   "id": "c0a7d8ca",
   "metadata": {},
   "outputs": [
    {
     "name": "stdout",
     "output_type": "stream",
     "text": [
      "['1' '2' '3' '4' '5'] <U1\n",
      "[1. 2. 3. 4.] float32\n",
      "[1. 2. 3. 4.] float64\n"
     ]
    }
   ],
   "source": [
    "arr=np.array([1,2,3,4,5],dtype=\"U\")\n",
    "print(arr,arr.dtype)\n",
    "arr=np.array([1,2,3,4],dtype='f')\n",
    "print(arr,arr.dtype)\n",
    "arr=np.array([1,2,3,4],dtype='f8')\n",
    "print(arr,arr.dtype)"
   ]
  },
  {
   "cell_type": "markdown",
   "id": "a765e098",
   "metadata": {},
   "source": [
    "## Use of astype()"
   ]
  },
  {
   "cell_type": "code",
   "execution_count": 106,
   "id": "433f1233",
   "metadata": {},
   "outputs": [
    {
     "name": "stdout",
     "output_type": "stream",
     "text": [
      "bool [ True  True  True False False  True]\n",
      "int32 [ 1  2  3  0  0 -1]\n"
     ]
    }
   ],
   "source": [
    "#we can specify data type as one character or like float for float,int for integer\n",
    "arr=np.array([1,2,3,0,0,-1])\n",
    "arr1=arr.astype('bool')\n",
    "print(arr1.dtype,arr1)\n",
    "#converting to int from bool\n",
    "arr1=arr.astype('i')\n",
    "print(arr1.dtype,arr1)"
   ]
  },
  {
   "cell_type": "markdown",
   "id": "46b436d6",
   "metadata": {},
   "source": [
    "# Numpy Array Math"
   ]
  },
  {
   "cell_type": "markdown",
   "id": "f132c29d",
   "metadata": {},
   "source": [
    "We can perform various mathematical operations on numpy array.\n",
    "All the operations below are elementwise of two array.Size of two arrays must be compatible.\n",
    "* Addition -> + or np.add(x,y) where x and y are ndarray\n",
    "* Subtract ->  - or np.subtract(x,y)\n",
    "* Multiply --> * or np.multiply(x,y)\n",
    "* Divide --> / or np.divide(x,y)\n",
    "\n",
    "Other operation that can be performed are:\n",
    "* Dot operation:\n",
    "Acts as scalar/dot product for rank 1 array.\n",
    "\n",
    "Otherwise it same ad matrix multiplication or cross product."
   ]
  },
  {
   "cell_type": "code",
   "execution_count": 121,
   "id": "f1b21c40",
   "metadata": {},
   "outputs": [
    {
     "name": "stdout",
     "output_type": "stream",
     "text": [
      "A: [[1 2 3 4]\n",
      " [5 6 7 8]] \n",
      "\n",
      "B: [[ 3  6  9 12]\n",
      " [15 18 21 24]]\n",
      "\n",
      "Addition:\n",
      " [[ 4  8 12 16]\n",
      " [20 24 28 32]]\n",
      "\n",
      "Subtract:\n",
      " [[ -2  -4  -6  -8]\n",
      " [-10 -12 -14 -16]]\n",
      "\n",
      "Multiplication:\n",
      " [[  3  12  27  48]\n",
      " [ 75 108 147 192]]\n",
      "\n",
      "Division:\n",
      " [[0.33333333 0.33333333 0.33333333 0.33333333]\n",
      " [0.33333333 0.33333333 0.33333333 0.33333333]]\n",
      "\n",
      "Dot Product:\n",
      " [[ 90 210]\n",
      " [210 522]]\n",
      "\n",
      "Dot/Scalar Product: 612\n"
     ]
    }
   ],
   "source": [
    "A=np.array([1,2,3,4,5,6,7,8]).reshape(2,4)\n",
    "B=np.array(range(3,25,3)).reshape(2,4)\n",
    "print(\"A:\",A,\"\\n\\nB:\",B)\n",
    "print(\"\\nAddition:\\n\",A+B)\n",
    "print(\"\\nSubtract:\\n\",A-B)\n",
    "print(\"\\nMultiplication:\\n\",A*B)\n",
    "print(\"\\nDivision:\\n\",A/B)\n",
    "print(\"\\nDot Product:\\n\",np.dot(A,B.T))#for cross product mXn and nXk;i.e shape compatibility\n",
    "A1=A.reshape(-1,)\n",
    "B1=B.reshape(-1,)\n",
    "print(\"\\nDot/Scalar Product:\",np.dot(A1,B1))"
   ]
  }
 ],
 "metadata": {
  "kernelspec": {
   "display_name": "Python 3 (ipykernel)",
   "language": "python",
   "name": "python3"
  },
  "language_info": {
   "codemirror_mode": {
    "name": "ipython",
    "version": 3
   },
   "file_extension": ".py",
   "mimetype": "text/x-python",
   "name": "python",
   "nbconvert_exporter": "python",
   "pygments_lexer": "ipython3",
   "version": "3.10.0"
  }
 },
 "nbformat": 4,
 "nbformat_minor": 5
}

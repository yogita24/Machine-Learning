{
 "cells": [
  {
   "cell_type": "markdown",
   "id": "5fb42a97",
   "metadata": {},
   "source": [
    "# Numpy Array Iteration"
   ]
  },
  {
   "cell_type": "markdown",
   "id": "ee624340",
   "metadata": {},
   "source": [
    "Iteration means going through elements one by one.As we deal with multidimensional array in numpy, we can do this with python for loop.For 1-D array by using for loop we can go through elements one b one."
   ]
  },
  {
   "cell_type": "code",
   "execution_count": 2,
   "id": "b5d605da",
   "metadata": {},
   "outputs": [
    {
     "name": "stdout",
     "output_type": "stream",
     "text": [
      "10-->11-->12-->13-->14-->15-->16-->17-->18-->19\n"
     ]
    }
   ],
   "source": [
    "import numpy as np\n",
    "arr=np.array(range(10,20))\n",
    "for i in arr[:-1]:\n",
    "    print(i,end='-->')\n",
    "print(arr[-1])"
   ]
  },
  {
   "cell_type": "code",
   "execution_count": 9,
   "id": "5cce33af",
   "metadata": {},
   "outputs": [
    {
     "name": "stdout",
     "output_type": "stream",
     "text": [
      "[[10 11 12 13]\n",
      " [14 15 16 17]\n",
      " [18 19 20 21]\n",
      " [22 23 24 25]\n",
      " [26 27 28 29]\n",
      " [30 31 32 33]\n",
      " [34 35 36 37]\n",
      " [38 39 40 41]\n",
      " [42 43 44 45]\n",
      " [46 47 48 49]]\n",
      "[[50 51 52 53]\n",
      " [54 55 56 57]\n",
      " [58 59 60 61]\n",
      " [62 63 64 65]\n",
      " [66 67 68 69]\n",
      " [70 71 72 73]\n",
      " [74 75 76 77]\n",
      " [78 79 80 81]\n",
      " [82 83 84 85]\n",
      " [86 87 88 89]]\n"
     ]
    }
   ],
   "source": [
    "#for high dimensional arrays it difficult to access elements by for loop.\n",
    "import numpy as np\n",
    "arr=np.array(range(10,90),ndmin=5).reshape(2,-1,4)\n",
    "for i in arr[:-1]:\n",
    "    print(i,end='\\n')\n",
    "print(arr[-1])\n"
   ]
  },
  {
   "cell_type": "markdown",
   "id": "68a9466b",
   "metadata": {},
   "source": [
    "**As number of dimensions increase accessing elements using for loop becomes inconvinient as we need to iterate to each dimension to finally get elements**\n",
    "\n",
    "Iteration using **nditer()**: The function nditer is a helping function that can be used for basic to advanced iteration."
   ]
  },
  {
   "cell_type": "code",
   "execution_count": 12,
   "id": "f731371d",
   "metadata": {},
   "outputs": [
    {
     "name": "stdout",
     "output_type": "stream",
     "text": [
      "10 11 12 13 14 15 16 17 18 19 20 21 22 23 24 25 26 27 28 29 30 31 32 33 34 35 36 37 38 39 40 41 42 43 44 45 46 47 48 49 50 51 52 53 54 55 56 57 58 59 60 61 62 63 64 65 66 67 68 69 70 71 72 73 74 75 76 77 78 79 80 81 82 83 84 85 86 87 88 89 "
     ]
    }
   ],
   "source": [
    "#print(arr)\n",
    "for i in np.nditer(arr):\n",
    "    print(i,end=\" \")"
   ]
  },
  {
   "cell_type": "markdown",
   "id": "ff6c0501",
   "metadata": {},
   "source": [
    "We can pass argument like:\n",
    "* op_dtype: use this argument and pass expected datatype to change data type of elements while iterating.\n",
    "* flags=['buffered] : numpy dont change data type of elements inplace , fo rthat we need extra space known as buffer and in order to enable it in nditer() we pass this argument."
   ]
  },
  {
   "cell_type": "code",
   "execution_count": 13,
   "id": "5199301a",
   "metadata": {},
   "outputs": [
    {
     "name": "stdout",
     "output_type": "stream",
     "text": [
      "b'10' b'11' b'12' b'13' b'14' b'15' b'16' b'17' b'18' b'19' b'20' b'21' b'22' b'23' b'24' b'25' b'26' b'27' b'28' b'29' b'30' b'31' b'32' b'33' b'34' b'35' b'36' b'37' b'38' b'39' b'40' b'41' b'42' b'43' b'44' b'45' b'46' b'47' b'48' b'49' b'50' b'51' b'52' b'53' b'54' b'55' b'56' b'57' b'58' b'59' b'60' b'61' b'62' b'63' b'64' b'65' b'66' b'67' b'68' b'69' b'70' b'71' b'72' b'73' b'74' b'75' b'76' b'77' b'78' b'79' b'80' b'81' b'82' b'83' b'84' b'85' b'86' b'87' b'88' b'89' "
     ]
    }
   ],
   "source": [
    "for i in np.nditer(arr,flags=[\"buffered\"],op_dtypes=[\"S\"]):\n",
    "    print(i,end=\" \")"
   ]
  },
  {
   "cell_type": "markdown",
   "id": "b40e0b45",
   "metadata": {},
   "source": [
    "## Iterating with Different Step Size"
   ]
  },
  {
   "cell_type": "code",
   "execution_count": 16,
   "id": "9fe48ebc",
   "metadata": {},
   "outputs": [
    {
     "name": "stdout",
     "output_type": "stream",
     "text": [
      "b'10' b'13' b'14' b'17' b'18' b'21' b'22' b'25' b'26' b'29' b'30' b'33' b'34' b'37' b'38' b'41' b'42' b'45' b'46' b'49' b'50' b'53' b'54' b'57' b'58' b'61' b'62' b'65' b'66' b'69' b'70' b'73' b'74' b'77' b'78' b'81' b'82' b'85' b'86' b'89' "
     ]
    }
   ],
   "source": [
    "for i in np.nditer(arr[:,:,::3],flags=[\"buffered\"],op_dtypes=[\"S\"]):\n",
    "    print(i,end=\" \")"
   ]
  },
  {
   "cell_type": "markdown",
   "id": "abff8376",
   "metadata": {},
   "source": [
    "## Enumerate using ndenumerate()\n",
    "\n",
    "Enumerate means mentioning sequence of something one by one.\n",
    "\n",
    "Sometimes we need index of element while iterating we can use ndenumerate in that case."
   ]
  },
  {
   "cell_type": "code",
   "execution_count": 29,
   "id": "80cad321",
   "metadata": {},
   "outputs": [
    {
     "name": "stdout",
     "output_type": "stream",
     "text": [
      "(0, 0, 0) 10\n",
      "(0, 1, 0) 18\n",
      "(0, 2, 0) 26\n",
      "(0, 3, 0) 34\n",
      "(0, 4, 0) 42\n",
      "(1, 0, 0) 50\n",
      "(1, 1, 0) 58\n",
      "(1, 2, 0) 66\n",
      "(1, 3, 0) 74\n",
      "(1, 4, 0) 82\n"
     ]
    }
   ],
   "source": [
    "for id,x in np.ndenumerate(arr[:,::2,::5]):\n",
    "    print(id,x,end=\"\\n\")"
   ]
  }
 ],
 "metadata": {
  "kernelspec": {
   "display_name": "Python 3 (ipykernel)",
   "language": "python",
   "name": "python3"
  },
  "language_info": {
   "codemirror_mode": {
    "name": "ipython",
    "version": 3
   },
   "file_extension": ".py",
   "mimetype": "text/x-python",
   "name": "python",
   "nbconvert_exporter": "python",
   "pygments_lexer": "ipython3",
   "version": "3.10.0"
  }
 },
 "nbformat": 4,
 "nbformat_minor": 5
}

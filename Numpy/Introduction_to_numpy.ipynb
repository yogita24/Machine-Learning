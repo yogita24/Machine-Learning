{
 "cells": [
  {
   "cell_type": "markdown",
   "id": "73f1630d",
   "metadata": {
    "slideshow": {
     "slide_type": "subslide"
    }
   },
   "source": [
    "# Introduction to NumPy\n",
    "\n",
    "## Python List\n",
    "\n",
    "1. List is a data structure which can accomodate any type of data/collection of data.\n",
    "2. It provides flexibility when dealing with multiple types of data but leads to disadvantage when dealing with huge amount of data(typically the case in machine learning as we need huge amout of data to train our models).\n",
    "3. The disadvantage of list is its efficiency.\n",
    "4. To allow list to have non uniform items each item is stored in memory location, with list containing an **\"array of pointers\"** pointing to each of these memory location.\n",
    "\n",
    "The below code illustrates the implementation of list;\n"
   ]
  },
  {
   "cell_type": "code",
   "execution_count": 1,
   "id": "09be859c",
   "metadata": {},
   "outputs": [
    {
     "name": "stdout",
     "output_type": "stream",
     "text": [
      "Lst:[1, 1.0, '1', True]\n",
      "Fruits:['Apple', 'Banana', 'Orange']\n"
     ]
    }
   ],
   "source": [
    "Fruits=[\"Apple\",\"Banana\",\"Orange\"] #list with same kind of data type\n",
    "Lst=[1,1.0,\"1\",True] #list with different data types.\n",
    "print(f\"Lst:{Lst}\\nFruits:{Fruits}\")"
   ]
  },
  {
   "cell_type": "markdown",
   "id": "cec87607",
   "metadata": {},
   "source": [
    "***To overcome the disadvantage of list we can use python library know as numpy which provides us flexibility to deal with large amount of data ,high dimensional data and matrices along with large library of functions for scientific caculation  or perform operations on these high dimensional array/matrices.***"
   ]
  },
  {
   "cell_type": "markdown",
   "id": "3638fde3",
   "metadata": {},
   "source": [
    "## Numpy"
   ]
  },
  {
   "cell_type": "markdown",
   "id": "61ccb8e0",
   "metadata": {},
   "source": [
    "1. Numpy allows us to create array of type ndarray(i.e n dimensional array) having all elements of same type.\n",
    "2. ndarray represent multidimensional, high dimensional array with fixed size items and is much more efficient than python list.\n",
    "3. It also provides functions that operates on entire array at once."
   ]
  },
  {
   "cell_type": "markdown",
   "id": "cf81db1b",
   "metadata": {},
   "source": [
    "### Creating Numpy Arrays.\n",
    "\n",
    "We can leverage different function in numpy to create ndarray.\n",
    "1. arange() - to create evenly spaced array with given interval\n",
    "2. zeros() - to create array containing zeros\n",
    "3. ones()  - to create array containig ones\n",
    "4. eye() - to create identity matrix\n",
    "5. random() - to create array having elements between [0,1).\n",
    "6. full() - to create array having specified number.\n"
   ]
  },
  {
   "cell_type": "markdown",
   "id": "a243fa48",
   "metadata": {},
   "source": [
    "## Implementation:"
   ]
  },
  {
   "cell_type": "code",
   "execution_count": 2,
   "id": "70791f4d",
   "metadata": {},
   "outputs": [],
   "source": [
    "import numpy as np"
   ]
  },
  {
   "cell_type": "code",
   "execution_count": 3,
   "id": "df9d5805",
   "metadata": {},
   "outputs": [
    {
     "name": "stdout",
     "output_type": "stream",
     "text": [
      "[0 1 2 3 4 5 6 7 8 9]\n",
      "(10,)\n"
     ]
    }
   ],
   "source": [
    "arr=np.arange(0,10)\n",
    "print(arr)\n",
    "print(arr.shape) #rank 1 array i.e 1-d array."
   ]
  },
  {
   "cell_type": "code",
   "execution_count": 4,
   "id": "e685a8ab",
   "metadata": {},
   "outputs": [
    {
     "name": "stdout",
     "output_type": "stream",
     "text": [
      "[0 2 4 6 8]\n",
      "(5,)\n"
     ]
    }
   ],
   "source": [
    "arr=np.arange(0,10,2) #with given interval as 2\n",
    "print(arr)\n",
    "print(arr.shape)"
   ]
  },
  {
   "cell_type": "code",
   "execution_count": 5,
   "id": "922ab1c4",
   "metadata": {},
   "outputs": [
    {
     "name": "stdout",
     "output_type": "stream",
     "text": [
      "[0. 0. 0. 0. 0. 0. 0. 0. 0. 0.]\n",
      "(10,)\n"
     ]
    }
   ],
   "source": [
    "arr=np.zeros(10)\n",
    "print(arr) #rank 1 array\n",
    "print(arr.shape)"
   ]
  },
  {
   "cell_type": "code",
   "execution_count": 6,
   "id": "87b9f256",
   "metadata": {},
   "outputs": [
    {
     "name": "stdout",
     "output_type": "stream",
     "text": [
      "[[0. 0. 0.]\n",
      " [0. 0. 0.]]\n",
      "(2, 3)\n"
     ]
    }
   ],
   "source": [
    "arr=np.zeros((2,3))\n",
    "print(arr) #rank 2 array i.e 2d array\n",
    "print(arr.shape)"
   ]
  },
  {
   "cell_type": "code",
   "execution_count": 7,
   "id": "dbcf858d",
   "metadata": {},
   "outputs": [
    {
     "name": "stdout",
     "output_type": "stream",
     "text": [
      "[1. 1. 1. 1. 1.]\n",
      "(5,)\n"
     ]
    }
   ],
   "source": [
    "arr=np.ones(5)\n",
    "print(arr)\n",
    "print(arr.shape)"
   ]
  },
  {
   "cell_type": "code",
   "execution_count": 8,
   "id": "a7763acb",
   "metadata": {},
   "outputs": [
    {
     "name": "stdout",
     "output_type": "stream",
     "text": [
      "[[1. 1.]\n",
      " [1. 1.]\n",
      " [1. 1.]\n",
      " [1. 1.]\n",
      " [1. 1.]]\n",
      "(5, 2)\n"
     ]
    }
   ],
   "source": [
    "arr=np.ones((5,2))\n",
    "print(arr)\n",
    "print(arr.shape)"
   ]
  },
  {
   "cell_type": "code",
   "execution_count": 9,
   "id": "bb0f5c10",
   "metadata": {},
   "outputs": [
    {
     "name": "stdout",
     "output_type": "stream",
     "text": [
      "[[1. 0. 0. 0. 0.]\n",
      " [0. 1. 0. 0. 0.]\n",
      " [0. 0. 1. 0. 0.]\n",
      " [0. 0. 0. 1. 0.]\n",
      " [0. 0. 0. 0. 1.]]\n",
      "(5, 5)\n"
     ]
    }
   ],
   "source": [
    "arr=np.eye(5)  #5X5 matrix\n",
    "print(arr)\n",
    "print(arr.shape)"
   ]
  },
  {
   "cell_type": "code",
   "execution_count": 10,
   "id": "80b3905a",
   "metadata": {},
   "outputs": [
    {
     "name": "stdout",
     "output_type": "stream",
     "text": [
      "[[5 5 5 5]\n",
      " [5 5 5 5]]\n",
      "(2, 4)\n"
     ]
    }
   ],
   "source": [
    "arr=np.full((2,4),5)\n",
    "print(arr)\n",
    "print(arr.shape)#2-d array with 5 as element"
   ]
  },
  {
   "cell_type": "code",
   "execution_count": 13,
   "id": "6c071f8f",
   "metadata": {},
   "outputs": [
    {
     "name": "stdout",
     "output_type": "stream",
     "text": [
      "[[[0.91893149 0.38971384 0.3987459 ]\n",
      "  [0.1677183  0.3933424  0.50596668]]]\n",
      "(1, 2, 3)\n"
     ]
    }
   ],
   "source": [
    "arr=np.random.random((1,2,3))\n",
    "print(arr) #have elements between [0,1)\n",
    "print(arr.shape)"
   ]
  },
  {
   "cell_type": "code",
   "execution_count": null,
   "id": "c85ac49e",
   "metadata": {},
   "outputs": [],
   "source": []
  }
 ],
 "metadata": {
  "kernelspec": {
   "display_name": "Python 3 (ipykernel)",
   "language": "python",
   "name": "python3"
  },
  "language_info": {
   "codemirror_mode": {
    "name": "ipython",
    "version": 3
   },
   "file_extension": ".py",
   "mimetype": "text/x-python",
   "name": "python",
   "nbconvert_exporter": "python",
   "pygments_lexer": "ipython3",
   "version": "3.10.0"
  }
 },
 "nbformat": 4,
 "nbformat_minor": 5
}

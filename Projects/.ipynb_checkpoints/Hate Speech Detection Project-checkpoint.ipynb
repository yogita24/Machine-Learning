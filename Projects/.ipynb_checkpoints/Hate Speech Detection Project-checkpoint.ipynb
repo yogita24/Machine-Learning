{
 "cells": [
  {
   "cell_type": "markdown",
   "id": "6a079d46",
   "metadata": {},
   "source": [
    "! pip install nltk\n",
    "import nltk\n",
    "nltk.download(\"all\")"
   ]
  },
  {
   "cell_type": "code",
   "execution_count": 145,
   "id": "2ea9157e",
   "metadata": {},
   "outputs": [],
   "source": [
    "#import all the necessary libraries/module\n",
    "import string\n",
    "import re\n",
    "import nltk\n",
    "from nltk.util import pr\n",
    "from nltk.corpus import stopwords\n",
    "from sklearn.feature_extraction.text import CountVectorizer\n",
    "from sklearn.model_selection import train_test_split\n",
    "from sklearn.tree import DecisionTreeClassifier\n",
    "import numpy as np\n",
    "import matplotlib.pyplot as plt\n",
    "import seaborn as sns\n",
    "import pandas as pd\n",
    "stemmer=nltk.SnowballStemmer('english')\n",
    "stopword=set(stopwords.words(\"english\"))"
   ]
  },
  {
   "cell_type": "code",
   "execution_count": 146,
   "id": "968af81e",
   "metadata": {},
   "outputs": [
    {
     "name": "stdout",
     "output_type": "stream",
     "text": [
      "{\"weren't\", 't', 'by', 'now', 'ourselves', \"hadn't\", 'd', 'if', 've', 'so', 'more', 'being', 'other', 'same', 'i', 'myself', 'from', 'can', 'hers', 'doesn', 'ma', \"shan't\", \"it's\", 'they', 'who', 'nor', 'its', 'about', 'here', 'wasn', 'when', 'each', 'yourselves', 'any', \"aren't\", 'a', 'until', 'itself', 'his', 'both', 'hadn', 'is', 'these', 'for', \"needn't\", 'having', 'because', 'below', 'our', 'yours', 'after', 'those', \"mustn't\", 'while', 'in', 'once', 'which', 'whom', 'why', \"don't\", \"she's\", 'during', 'didn', 'will', 'down', \"isn't\", 'few', \"wouldn't\", 'haven', 's', 'should', 'up', 'very', 'she', 'only', 'wouldn', \"that'll\", 'were', 'aren', 're', 'just', 'then', 'shouldn', 'or', 'he', \"you'll\", 'does', 'we', 'themselves', 'my', 'no', 'yourself', 'all', 'as', 'm', 'what', 'himself', 'but', 'ours', 'them', 'such', 'doing', 'most', 'how', 'theirs', 'him', 'against', \"you'd\", 'has', 'couldn', 'that', 'mustn', 'to', 'before', 'won', 'shan', 'ain', 'weren', 'through', \"didn't\", 'you', 'and', \"you're\", 'been', 'with', 'was', \"should've\", 'their', \"mightn't\", 'off', 'there', 'had', \"doesn't\", 'are', 'o', 'it', 'than', 'me', 'an', \"you've\", 'be', 'of', 'out', 'above', 'll', \"won't\", 'hasn', 'am', 'did', \"haven't\", \"wasn't\", 'herself', 'some', 'where', \"couldn't\", 'under', 'too', 'on', 'again', 'don', 'between', 'mightn', 'this', \"hasn't\", 'her', 'own', 'further', 'your', 'y', 'have', 'over', 'into', 'needn', \"shouldn't\", 'not', 'the', 'do', 'isn', 'at'}\n"
     ]
    }
   ],
   "source": [
    "print(stopword) #we remove stopwords from sentences as they dont add any meaning to the sentence;reducing complexity by removing stopwords."
   ]
  },
  {
   "cell_type": "code",
   "execution_count": 147,
   "id": "a8e3998c",
   "metadata": {},
   "outputs": [
    {
     "data": {
      "text/html": [
       "<div>\n",
       "<style scoped>\n",
       "    .dataframe tbody tr th:only-of-type {\n",
       "        vertical-align: middle;\n",
       "    }\n",
       "\n",
       "    .dataframe tbody tr th {\n",
       "        vertical-align: top;\n",
       "    }\n",
       "\n",
       "    .dataframe thead th {\n",
       "        text-align: right;\n",
       "    }\n",
       "</style>\n",
       "<table border=\"1\" class=\"dataframe\">\n",
       "  <thead>\n",
       "    <tr style=\"text-align: right;\">\n",
       "      <th></th>\n",
       "      <th>index</th>\n",
       "      <th>count</th>\n",
       "      <th>hate_speech</th>\n",
       "      <th>offensive_language</th>\n",
       "      <th>neither</th>\n",
       "      <th>class</th>\n",
       "      <th>tweet</th>\n",
       "    </tr>\n",
       "  </thead>\n",
       "  <tbody>\n",
       "    <tr>\n",
       "      <th>0</th>\n",
       "      <td>0</td>\n",
       "      <td>3</td>\n",
       "      <td>0</td>\n",
       "      <td>0</td>\n",
       "      <td>3</td>\n",
       "      <td>2</td>\n",
       "      <td>!!! RT @mayasolovely: As a woman you shouldn't...</td>\n",
       "    </tr>\n",
       "    <tr>\n",
       "      <th>1</th>\n",
       "      <td>1</td>\n",
       "      <td>3</td>\n",
       "      <td>0</td>\n",
       "      <td>3</td>\n",
       "      <td>0</td>\n",
       "      <td>1</td>\n",
       "      <td>!!!!! RT @mleew17: boy dats cold...tyga dwn ba...</td>\n",
       "    </tr>\n",
       "    <tr>\n",
       "      <th>2</th>\n",
       "      <td>2</td>\n",
       "      <td>3</td>\n",
       "      <td>0</td>\n",
       "      <td>3</td>\n",
       "      <td>0</td>\n",
       "      <td>1</td>\n",
       "      <td>!!!!!!! RT @UrKindOfBrand Dawg!!!! RT @80sbaby...</td>\n",
       "    </tr>\n",
       "    <tr>\n",
       "      <th>3</th>\n",
       "      <td>3</td>\n",
       "      <td>3</td>\n",
       "      <td>0</td>\n",
       "      <td>2</td>\n",
       "      <td>1</td>\n",
       "      <td>1</td>\n",
       "      <td>!!!!!!!!! RT @C_G_Anderson: @viva_based she lo...</td>\n",
       "    </tr>\n",
       "    <tr>\n",
       "      <th>4</th>\n",
       "      <td>4</td>\n",
       "      <td>6</td>\n",
       "      <td>0</td>\n",
       "      <td>6</td>\n",
       "      <td>0</td>\n",
       "      <td>1</td>\n",
       "      <td>!!!!!!!!!!!!! RT @ShenikaRoberts: The shit you...</td>\n",
       "    </tr>\n",
       "  </tbody>\n",
       "</table>\n",
       "</div>"
      ],
      "text/plain": [
       "   index  count  hate_speech  offensive_language  neither  class  \\\n",
       "0      0      3            0                   0        3      2   \n",
       "1      1      3            0                   3        0      1   \n",
       "2      2      3            0                   3        0      1   \n",
       "3      3      3            0                   2        1      1   \n",
       "4      4      6            0                   6        0      1   \n",
       "\n",
       "                                               tweet  \n",
       "0  !!! RT @mayasolovely: As a woman you shouldn't...  \n",
       "1  !!!!! RT @mleew17: boy dats cold...tyga dwn ba...  \n",
       "2  !!!!!!! RT @UrKindOfBrand Dawg!!!! RT @80sbaby...  \n",
       "3  !!!!!!!!! RT @C_G_Anderson: @viva_based she lo...  \n",
       "4  !!!!!!!!!!!!! RT @ShenikaRoberts: The shit you...  "
      ]
     },
     "execution_count": 147,
     "metadata": {},
     "output_type": "execute_result"
    }
   ],
   "source": [
    "df=pd.read_csv(\"labeled_data.csv\")\n",
    "df.head()"
   ]
  },
  {
   "cell_type": "code",
   "execution_count": 148,
   "id": "01b7cb99",
   "metadata": {},
   "outputs": [
    {
     "name": "stdout",
     "output_type": "stream",
     "text": [
      "<class 'pandas.core.frame.DataFrame'>\n",
      "RangeIndex: 24783 entries, 0 to 24782\n",
      "Data columns (total 7 columns):\n",
      " #   Column              Non-Null Count  Dtype \n",
      "---  ------              --------------  ----- \n",
      " 0   index               24783 non-null  int64 \n",
      " 1   count               24783 non-null  int64 \n",
      " 2   hate_speech         24783 non-null  int64 \n",
      " 3   offensive_language  24783 non-null  int64 \n",
      " 4   neither             24783 non-null  int64 \n",
      " 5   class               24783 non-null  int64 \n",
      " 6   tweet               24783 non-null  object\n",
      "dtypes: int64(6), object(1)\n",
      "memory usage: 1.3+ MB\n"
     ]
    }
   ],
   "source": [
    "df.info()"
   ]
  },
  {
   "cell_type": "code",
   "execution_count": 149,
   "id": "0ad98e76",
   "metadata": {},
   "outputs": [
    {
     "data": {
      "text/plain": [
       "index                 0\n",
       "count                 0\n",
       "hate_speech           0\n",
       "offensive_language    0\n",
       "neither               0\n",
       "class                 0\n",
       "tweet                 0\n",
       "dtype: int64"
      ]
     },
     "execution_count": 149,
     "metadata": {},
     "output_type": "execute_result"
    }
   ],
   "source": [
    "df.isnull().sum()  #checking for null values"
   ]
  },
  {
   "cell_type": "code",
   "execution_count": 150,
   "id": "db3fbe3d",
   "metadata": {},
   "outputs": [],
   "source": [
    "df[\"label\"]=df[\"class\"].map({0:\"Hate\",1:\"Offensive\",2:\"Neither\"})"
   ]
  },
  {
   "cell_type": "code",
   "execution_count": 151,
   "id": "7bd3d0f3",
   "metadata": {},
   "outputs": [
    {
     "data": {
      "text/plain": [
       "(24783, 8)"
      ]
     },
     "execution_count": 151,
     "metadata": {},
     "output_type": "execute_result"
    }
   ],
   "source": [
    "df.shape"
   ]
  },
  {
   "cell_type": "code",
   "execution_count": 152,
   "id": "630fbab5",
   "metadata": {},
   "outputs": [],
   "source": [
    "df1=df[\"label\"].value_counts()"
   ]
  },
  {
   "cell_type": "code",
   "execution_count": 153,
   "id": "5a46eb83",
   "metadata": {},
   "outputs": [
    {
     "data": {
      "text/plain": [
       "<AxesSubplot:ylabel='label'>"
      ]
     },
     "execution_count": 153,
     "metadata": {},
     "output_type": "execute_result"
    },
    {
     "data": {
      "image/png": "[encoded data removed]",
      "text/plain": [
       "<Figure size 432x288 with 1 Axes>"
      ]
     },
     "metadata": {},
     "output_type": "display_data"
    }
   ],
   "source": [
    "sns.set_style(\"dark\")\n",
    "sns.barplot(x=df1.index,y=df[\"label\"].value_counts())"
   ]
  },
  {
   "cell_type": "code",
   "execution_count": 154,
   "id": "4f680512",
   "metadata": {},
   "outputs": [
    {
     "name": "stdout",
     "output_type": "stream",
     "text": [
      "85.43606504458701\n"
     ]
    }
   ],
   "source": [
    "count=df[\"tweet\"].count()\n",
    "df[\"total_length_characters\"]=df[\"tweet\"].apply(lambda x:len(x))\n",
    "df.head()\n",
    "averagelength=(df[\"total_length_characters\"].sum())/count\n",
    "print(averagelength)"
   ]
  },
  {
   "cell_type": "code",
   "execution_count": 155,
   "id": "73d26213",
   "metadata": {},
   "outputs": [
    {
     "name": "stdout",
     "output_type": "stream",
     "text": [
      "14.117015696243392\n"
     ]
    }
   ],
   "source": [
    "df[\"total_length_words\"]=df[\"tweet\"].apply(lambda x:len(x.split()))\n",
    "df.head()\n",
    "avg_words=df[\"total_length_words\"].sum()/count\n",
    "print(avg_words)"
   ]
  },
  {
   "cell_type": "code",
   "execution_count": 156,
   "id": "dedad6a0",
   "metadata": {},
   "outputs": [
    {
     "data": {
      "text/plain": [
       "0        !!! RT @mayasolovely: As a woman you shouldn't...\n",
       "1        !!!!! RT @mleew17: boy dats cold...tyga dwn ba...\n",
       "2        !!!!!!! RT @UrKindOfBrand Dawg!!!! RT @80sbaby...\n",
       "3        !!!!!!!!! RT @C_G_Anderson: @viva_based she lo...\n",
       "4        !!!!!!!!!!!!! RT @ShenikaRoberts: The shit you...\n",
       "                               ...                        \n",
       "24778    you's a muthaf***in lie &#8220;@LifeAsKing: @2...\n",
       "24779    you've gone and broke the wrong heart baby, an...\n",
       "24780    young buck wanna eat!!.. dat nigguh like I ain...\n",
       "24781                youu got wild bitches tellin you lies\n",
       "24782    ~~Ruffled | Ntac Eileen Dahlia - Beautiful col...\n",
       "Name: tweet, Length: 24783, dtype: object"
      ]
     },
     "execution_count": 156,
     "metadata": {},
     "output_type": "execute_result"
    }
   ],
   "source": [
    "df['tweet']"
   ]
  },
  {
   "cell_type": "markdown",
   "id": "42da06ad",
   "metadata": {},
   "source": [
    "### Data Cleaning"
   ]
  },
  {
   "cell_type": "code",
   "execution_count": 165,
   "id": "ba0203ae",
   "metadata": {},
   "outputs": [
    {
     "data": {
      "text/plain": [
       "0        None\n",
       "1        None\n",
       "2        None\n",
       "3        None\n",
       "4        None\n",
       "         ... \n",
       "24778    None\n",
       "24779    None\n",
       "24780    None\n",
       "24781    None\n",
       "24782    None\n",
       "Name: tweet, Length: 24783, dtype: object"
      ]
     },
     "execution_count": 165,
     "metadata": {},
     "output_type": "execute_result"
    }
   ],
   "source": [
    "def clean(text):\n",
    "#     print(text)\n",
    "    text=str(text).lower()\n",
    "#     print(text)\n",
    "    text=' '.join(re.sub(\"(@[A-Za-z0-9]+)|([^0-9A-Za-z \\t])|(\\w+:\\/\\/\\S+)\", \" \", text).split())\n",
    "    text=\n",
    "\n",
    "df['tweet']=df['tweet'].apply(clean)\n",
    "df[\"tweet\"]"
   ]
  },
  {
   "cell_type": "code",
   "execution_count": null,
   "id": "d2bcf03d",
   "metadata": {},
   "outputs": [],
   "source": []
  }
 ],
 "metadata": {
  "kernelspec": {
   "display_name": "Python 3 (ipykernel)",
   "language": "python",
   "name": "python3"
  },
  "language_info": {
   "codemirror_mode": {
    "name": "ipython",
    "version": 3
   },
   "file_extension": ".py",
   "mimetype": "text/x-python",
   "name": "python",
   "nbconvert_exporter": "python",
   "pygments_lexer": "ipython3",
   "version": "3.10.0"
  }
 },
 "nbformat": 4,
 "nbformat_minor": 5
}
